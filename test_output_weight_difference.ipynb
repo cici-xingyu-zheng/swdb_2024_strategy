{
 "cells": [
  {
   "cell_type": "code",
   "execution_count": 1,
   "metadata": {},
   "outputs": [],
   "source": [
    "import numpy as np\n",
    "import matplotlib.pyplot as plt\n",
    "import pandas as pd\n",
    "from matplotlib.patches import Patch\n",
    "import seaborn as sns\n",
    "from allensdk.brain_observatory.behavior.behavior_project_cache import VisualBehaviorNeuropixelsProjectCache\n",
    "import psytrack as psy\n",
    "\n",
    "sns.set_style('ticks')"
   ]
  },
  {
   "cell_type": "code",
   "execution_count": 7,
   "metadata": {},
   "outputs": [],
   "source": [
    "drive_dir = \"/Volumes/Brain2024\"\n",
    "cache = VisualBehaviorNeuropixelsProjectCache.from_local_cache(cache_dir=drive_dir, use_static_cache=True)\n",
    "behavior_sessions = cache.get_behavior_session_table()\n",
    "subset_sessions = behavior_sessions[\n",
    "    (behavior_sessions.session_type.str.contains('EPHYS')) & \n",
    "    (behavior_sessions.genotype == 'wt/wt')\n",
    "]"
   ]
  },
  {
   "cell_type": "code",
   "execution_count": 8,
   "metadata": {},
   "outputs": [],
   "source": [
    "sessions = cache.get_ecephys_session_table()\n",
    "ephys_subset = sessions[['genotype', 'behavior_session_id']].loc[sessions['genotype'] == 'wt/wt']\n",
    "\n",
    "included = ephys_subset.behavior_session_id.to_list()"
   ]
  },
  {
   "cell_type": "code",
   "execution_count": 9,
   "metadata": {},
   "outputs": [],
   "source": [
    "subset_sessions_ephys = subset_sessions[subset_sessions.index.isin(included)]\n"
   ]
  },
  {
   "cell_type": "code",
   "execution_count": 10,
   "metadata": {},
   "outputs": [
    {
     "data": {
      "text/plain": [
       "54"
      ]
     },
     "execution_count": 10,
     "metadata": {},
     "output_type": "execute_result"
    }
   ],
   "source": [
    "len(subset_sessions)"
   ]
  },
  {
   "cell_type": "code",
   "execution_count": null,
   "metadata": {},
   "outputs": [],
   "source": [
    "for bsid in subset_sessions.index:\n",
    "\n",
    "    print(f'\\n Processing {bsid}')\n",
    "    \n",
    "    dir = f'local_modelfit/ephys/{bsid}'\n",
    "    os.makedirs(dir, exist_ok=True)\n",
    "\n",
    "    plot_dir = f'plots/modelfit/ephys/{bsid}'\n",
    "    os.makedirs(plot_dir, exist_ok=True)\n",
    "    behavior_session = cache.get_behavior_session(bsid)\n",
    "    licks = behavior_session.licks\n",
    "    licks_annot = get_metrics.annotate_licks(licks, behavior_session)\n",
    "    stimulus_presentations = behavior_session.stimulus_presentations\n",
    "    stimulus_presentations = stimulus_presentations[stimulus_presentations['active']]\n",
    "    stim_table = get_metrics.annotate_bouts(licks_annot, stimulus_presentations)\n",
    "    format_options = {\n",
    "                    'preprocess': 2, \n",
    "                    'timing_params': [-5,4],\n",
    "                    'num_cv_folds': 10}\n",
    "\n",
    "    psydata = format_Xy.build_regressor(stim_table, format_options, behavior_session)\n",
    "    \n",
    "    df = psydata['df']\n",
    "    wMode = np.load(f'local_modelfit/ephys/{bsid}/wMode.npy')\n",
    "    w_ratio = wMode[3, :] - wMode[4, :]\n",
    "    df['diff'] = w_ratio \n",
    "    df_change = df[df.change][['diff','licked']]\n",
    "    df_change.to_csv(f'{dir}/weight_diff_changed_frames.csv')\n",
    "    \n",
    "    # Fig 1\n",
    "    fig, ax = plt.subplots(figsize=(10, 6))\n",
    "    sns.histplot(data=df, x='diff', ax=ax)\n",
    "    ax.set_xlabel('Weight Difference', fontsize=12)\n",
    "    ax.set_ylabel('Count', fontsize=12)\n",
    "    plt.tight_layout()\n",
    "    plt.show()\n",
    "    fig.savefig(f'{plot_dir}/diff_dist.pdf')\n",
    "    \n",
    "    # Fig 2\n",
    "    fig, ax = plt.subplots(figsize=(20, 6))  # Adjust figure size as needed\n",
    "    sns.heatmap(wMode, cmap='viridis', cbar=True, ax=ax)\n",
    "    ax.set_yticks(np.arange(len(strategy_list)) + 0.5)\n",
    "    strategy_list_sorted = sorted(strategy_list)\n",
    "    ax.set_yticklabels(strategy_list_sorted, rotation=0, va='center')\n",
    "\n",
    "    total_ticks = wMode.shape[1]\n",
    "    tick_locations = np.arange(0, total_ticks, 500)\n",
    "    ax.set_xticks(tick_locations)\n",
    "    ax.set_xticklabels(tick_locations)\n",
    "\n",
    "    ax.set_xlabel('Time (ticks)', fontsize=12)\n",
    "    ax.set_ylabel('Strategy', fontsize=12)\n",
    "    ax.set_title('Weight Matrix', fontsize=14)\n",
    "\n",
    "    cbar = ax.collections[0].colorbar\n",
    "    cbar.set_label('Weight', rotation=270, labelpad=20)\n",
    "\n",
    "    plt.tight_layout()\n",
    "    plt.show()\n",
    "    fig.savefig(f'{plot_dir}/weight_heatmap.pdf')\n",
    "\n",
    "\n",
    "    if bsid in included:\n",
    "        df_change.to_csv(f'{plot_dir}/weight_diff_changed_frames.csv')\n",
    "\n",
    "\n",
    "    \n"
   ]
  }
 ],
 "metadata": {
  "kernelspec": {
   "display_name": "swdb2024",
   "language": "python",
   "name": "python3"
  },
  "language_info": {
   "codemirror_mode": {
    "name": "ipython",
    "version": 3
   },
   "file_extension": ".py",
   "mimetype": "text/x-python",
   "name": "python",
   "nbconvert_exporter": "python",
   "pygments_lexer": "ipython3",
   "version": "3.9.19"
  }
 },
 "nbformat": 4,
 "nbformat_minor": 2
}
