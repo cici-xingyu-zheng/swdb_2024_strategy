{
 "cells": [
  {
   "cell_type": "code",
   "execution_count": 4,
   "metadata": {},
   "outputs": [
    {
     "name": "stdout",
     "output_type": "stream",
     "text": [
      "Num wt mouse sessions: 1\n",
      "\n",
      " Downlading 1th Session with bsid: 1061722976\n"
     ]
    },
    {
     "name": "stderr",
     "output_type": "stream",
     "text": [
      "behavior_session_1061722976.nwb: 100%|██████████| 188M/188M [00:12<00:00, 14.9MMB/s]    \n",
      "/opt/anaconda3/envs/swdb2024/lib/python3.9/site-packages/hdmf/utils.py:668: UserWarning: Ignoring cached namespace 'core' version 2.6.0-alpha because version 2.7.0 is already loaded.\n",
      "  return func(args[0], **pargs)\n"
     ]
    }
   ],
   "source": [
    "from pathlib import Path\n",
    "import matplotlib.pyplot as plt\n",
    "from allensdk.brain_observatory.behavior.behavior_project_cache import VisualBehaviorNeuropixelsProjectCache\n",
    "from urllib.parse import urljoin\n",
    "\n",
    "drive_dir = \"/Volumes/Brain2024/project\"\n",
    "output_dir =  drive_dir\n",
    "output_dir = Path(output_dir)\n",
    "\n",
    "cache = VisualBehaviorNeuropixelsProjectCache.from_s3_cache(cache_dir=output_dir)\n",
    "\n",
    "behavior_sessions = cache.get_behavior_session_table()\n",
    "\n",
    "sub_sessions = [1061722976]\n",
    "\n",
    "print('Num wt mouse sessions:', len(sub_sessions))\n",
    "\n",
    "# Download behavior only mouse:\n",
    "i = 1\n",
    "for bsid in  sub_sessions:\n",
    "    print(f'\\n Downlading {i}th Session with bsid:', bsid)\n",
    "    _ = cache.get_behavior_session(behavior_session_id=bsid)\n",
    "    i += 1\n"
   ]
  },
  {
   "cell_type": "code",
   "execution_count": null,
   "metadata": {},
   "outputs": [],
   "source": []
  }
 ],
 "metadata": {
  "kernelspec": {
   "display_name": "swdb2024",
   "language": "python",
   "name": "python3"
  },
  "language_info": {
   "codemirror_mode": {
    "name": "ipython",
    "version": 3
   },
   "file_extension": ".py",
   "mimetype": "text/x-python",
   "name": "python",
   "nbconvert_exporter": "python",
   "pygments_lexer": "ipython3",
   "version": "3.9.19"
  }
 },
 "nbformat": 4,
 "nbformat_minor": 2
}
