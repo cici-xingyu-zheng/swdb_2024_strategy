{
 "cells": [
  {
   "cell_type": "code",
   "execution_count": 6,
   "metadata": {},
   "outputs": [],
   "source": [
    "import numpy as np\n",
    "import matplotlib.pyplot as plt\n",
    "import pandas as pd\n",
    "from matplotlib.patches import Patch\n",
    "import seaborn as sns\n",
    "from allensdk.brain_observatory.behavior.behavior_project_cache import VisualBehaviorNeuropixelsProjectCache\n",
    "\n",
    "sns.set_style('ticks')\n",
    "\n"
   ]
  },
  {
   "cell_type": "markdown",
   "metadata": {},
   "source": [
    "### Create cache"
   ]
  },
  {
   "cell_type": "code",
   "execution_count": 7,
   "metadata": {},
   "outputs": [],
   "source": [
    "drive_dir = \"/Volumes/Brain2024\"\n",
    "cache = VisualBehaviorNeuropixelsProjectCache.from_local_cache(cache_dir=drive_dir, use_static_cache=True)"
   ]
  },
  {
   "cell_type": "code",
   "execution_count": 8,
   "metadata": {},
   "outputs": [
    {
     "data": {
      "text/plain": [
       "['visual-behavior-neuropixels_project_manifest_v0.5.0.json']"
      ]
     },
     "execution_count": 8,
     "metadata": {},
     "output_type": "execute_result"
    }
   ],
   "source": [
    "cache.list_manifest_file_names() # Okay we just load the latest version"
   ]
  },
  {
   "cell_type": "code",
   "execution_count": 10,
   "metadata": {},
   "outputs": [],
   "source": [
    "behavior_sessions = cache.get_behavior_session_table()"
   ]
  },
  {
   "cell_type": "code",
   "execution_count": 11,
   "metadata": {},
   "outputs": [
    {
     "name": "stdout",
     "output_type": "stream",
     "text": [
      "Total number of behavior sessions: 3424\n",
      "\n",
      "Unique types of sessions (Training/Recording):\n",
      "\n",
      "1. HABITUATION_5_images_G_handoff_ready_5uL_reward\n",
      "2. TRAINING_1_gratings\n",
      "3. TRAINING_2_gratings_flashed\n",
      "4. TRAINING_5_images_G_epilogue\n",
      "5. TRAINING_3_images_G_10uL_reward\n",
      "6. TRAINING_4_images_G_training\n",
      "7. TRAINING_0_gratings_autorewards_15min\n",
      "8. HABITUATION_5_images_G_handoff_ready_3uL_reward\n",
      "9. TRAINING_5_images_G_handoff_ready_5uL_reward\n",
      "10. TRAINING_4_images_G_training_7uL_reward\n",
      "11. TRAINING_2_gratings_flashed_10uL_reward\n",
      "12. TRAINING_1_gratings_10uL_reward\n",
      "13. TRAINING_0_gratings_autorewards_15min_0uL_reward\n",
      "14. TRAINING_5_images_G_epilogue_5uL_reward\n",
      "15. EPHYS_1_images_G_3uL_reward\n",
      "16. TRAINING_5_images_G_handoff_lapsed_5uL_reward\n",
      "17. EPHYS_1_images_H_3uL_reward\n",
      "18. HABITUATION_5_images_H_handoff_ready_5uL_reward\n",
      "19. HABITUATION_5_images_H_handoff_ready_3uL_reward\n",
      "20. TRAINING_5_images_H_handoff_ready_5uL_reward\n",
      "21. TRAINING_3_images_H_10uL_reward\n",
      "22. TRAINING_4_images_H_training_7uL_reward\n",
      "23. TRAINING_5_images_H_epilogue_5uL_reward\n",
      "24. TRAINING_5_images_H_handoff_lapsed_5uL_reward\n",
      "25. EPHYS_1_images_G_5uL_reward\n",
      "26. EPHYS_1_images_H_5uL_reward\n"
     ]
    }
   ],
   "source": [
    "behavior_sessions = cache.get_behavior_session_table()\n",
    "print(f\"Total number of behavior sessions: {len(behavior_sessions)}\")\n",
    "\n",
    "print()\n",
    "types = behavior_sessions.session_type.unique()\n",
    "print(\"Unique types of sessions (Training/Recording):\")\n",
    "print()\n",
    "for i, session_type in enumerate(types, start=1):\n",
    "    print(f\"{i}. {session_type}\")"
   ]
  },
  {
   "cell_type": "code",
   "execution_count": 17,
   "metadata": {},
   "outputs": [
    {
     "name": "stdout",
     "output_type": "stream",
     "text": [
      "Unique types of EPHYS sessions:\n",
      "\n",
      "1. EPHYS_1_images_G_3uL_reward\n",
      "2. EPHYS_1_images_H_3uL_reward\n",
      "3. EPHYS_1_images_G_5uL_reward\n",
      "4. EPHYS_1_images_H_5uL_reward\n"
     ]
    }
   ],
   "source": [
    "types = behavior_sessions.session_type.unique()\n",
    "print(\"Unique types of EPHYS sessions:\")\n",
    "print()\n",
    "ephys_types = [session_type for session_type in types if 'EPHYS' in session_type]\n",
    "\n",
    "for i, session_type in enumerate(ephys_types, start=1):\n",
    "    print(f\"{i}. {session_type}\")"
   ]
  },
  {
   "cell_type": "markdown",
   "metadata": {},
   "source": [
    "### Get access to behaviral data"
   ]
  },
  {
   "cell_type": "code",
   "execution_count": 18,
   "metadata": {},
   "outputs": [
    {
     "name": "stdout",
     "output_type": "stream",
     "text": [
      "Number of behaviral sessions for an example mouse: 27\n"
     ]
    }
   ],
   "source": [
    "# load example mice\n",
    "\n",
    "mouse_id = 506940\n",
    "print('Number of behaviral sessions for an example mouse:', len(behavior_sessions[behavior_sessions['mouse_id']== mouse_id]))"
   ]
  },
  {
   "cell_type": "code",
   "execution_count": 19,
   "metadata": {},
   "outputs": [],
   "source": [
    "behavior_sessions_example_mouse = behavior_sessions[behavior_sessions['mouse_id']== mouse_id]"
   ]
  },
  {
   "cell_type": "markdown",
   "metadata": {},
   "source": [
    "#### Get behavior trials directly from `cache.get_behavior_session()`"
   ]
  },
  {
   "cell_type": "markdown",
   "metadata": {},
   "source": [
    "_Can get it from the ecephys_session:_"
   ]
  },
  {
   "cell_type": "code",
   "execution_count": 20,
   "metadata": {},
   "outputs": [
    {
     "name": "stderr",
     "output_type": "stream",
     "text": [
      "/opt/anaconda3/envs/swdb2024/lib/python3.9/site-packages/hdmf/utils.py:668: UserWarning: Ignoring cached namespace 'core' version 2.6.0-alpha because version 2.7.0 is already loaded.\n",
      "  return func(args[0], **pargs)\n"
     ]
    },
    {
     "data": {
      "text/plain": [
       "{'equipment_name': 'NP.1',\n",
       " 'sex': 'M',\n",
       " 'age_in_days': 180,\n",
       " 'stimulus_frame_rate': 60.0,\n",
       " 'session_type': 'EPHYS_1_images_H_3uL_reward',\n",
       " 'date_of_acquisition': datetime.datetime(2020, 10, 2, 0, 3, 58, tzinfo=tzutc()),\n",
       " 'reporter_line': 'Ai32(RCL-ChR2(H134R)_EYFP)',\n",
       " 'cre_line': 'Sst-IRES-Cre',\n",
       " 'behavior_session_uuid': UUID('330937b4-ec9e-4bc4-8567-f74666f52596'),\n",
       " 'driver_line': ['Sst-IRES-Cre'],\n",
       " 'mouse_id': '527749',\n",
       " 'project_code': 'Not Available',\n",
       " 'full_genotype': 'Sst-IRES-Cre/wt;Ai32(RCL-ChR2(H134R)_EYFP)/wt',\n",
       " 'behavior_session_id': 1053960987,\n",
       " 'ecephys_session_id': 1053941483}"
      ]
     },
     "execution_count": 20,
     "metadata": {},
     "output_type": "execute_result"
    }
   ],
   "source": [
    "# ecephys_session_id\n",
    "session_id = 1053941483 \n",
    "session = cache.get_ecephys_session(session_id)\n",
    "metadata = session.metadata\n",
    "metadata"
   ]
  },
  {
   "cell_type": "code",
   "execution_count": 21,
   "metadata": {},
   "outputs": [
    {
     "data": {
      "text/html": [
       "<div>\n",
       "<style scoped>\n",
       "    .dataframe tbody tr th:only-of-type {\n",
       "        vertical-align: middle;\n",
       "    }\n",
       "\n",
       "    .dataframe tbody tr th {\n",
       "        vertical-align: top;\n",
       "    }\n",
       "\n",
       "    .dataframe thead th {\n",
       "        text-align: right;\n",
       "    }\n",
       "</style>\n",
       "<table border=\"1\" class=\"dataframe\">\n",
       "  <thead>\n",
       "    <tr style=\"text-align: right;\">\n",
       "      <th></th>\n",
       "      <th>start_time</th>\n",
       "      <th>stop_time</th>\n",
       "      <th>initial_image_name</th>\n",
       "      <th>change_image_name</th>\n",
       "      <th>is_change</th>\n",
       "      <th>change_time_no_display_delay</th>\n",
       "      <th>go</th>\n",
       "      <th>catch</th>\n",
       "      <th>lick_times</th>\n",
       "      <th>response_time</th>\n",
       "      <th>reward_time</th>\n",
       "      <th>reward_volume</th>\n",
       "      <th>hit</th>\n",
       "      <th>false_alarm</th>\n",
       "      <th>miss</th>\n",
       "      <th>correct_reject</th>\n",
       "      <th>aborted</th>\n",
       "      <th>auto_rewarded</th>\n",
       "      <th>change_frame</th>\n",
       "      <th>trial_length</th>\n",
       "    </tr>\n",
       "    <tr>\n",
       "      <th>trials_id</th>\n",
       "      <th></th>\n",
       "      <th></th>\n",
       "      <th></th>\n",
       "      <th></th>\n",
       "      <th></th>\n",
       "      <th></th>\n",
       "      <th></th>\n",
       "      <th></th>\n",
       "      <th></th>\n",
       "      <th></th>\n",
       "      <th></th>\n",
       "      <th></th>\n",
       "      <th></th>\n",
       "      <th></th>\n",
       "      <th></th>\n",
       "      <th></th>\n",
       "      <th></th>\n",
       "      <th></th>\n",
       "      <th></th>\n",
       "      <th></th>\n",
       "    </tr>\n",
       "  </thead>\n",
       "  <tbody>\n",
       "    <tr>\n",
       "      <th>0</th>\n",
       "      <td>25.20983</td>\n",
       "      <td>26.19343</td>\n",
       "      <td>im104_r</td>\n",
       "      <td>im104_r</td>\n",
       "      <td>False</td>\n",
       "      <td>NaN</td>\n",
       "      <td>False</td>\n",
       "      <td>False</td>\n",
       "      <td>[25.72637, 25.87602]</td>\n",
       "      <td>NaN</td>\n",
       "      <td>NaN</td>\n",
       "      <td>0.0</td>\n",
       "      <td>False</td>\n",
       "      <td>False</td>\n",
       "      <td>False</td>\n",
       "      <td>False</td>\n",
       "      <td>True</td>\n",
       "      <td>False</td>\n",
       "      <td>-99</td>\n",
       "      <td>0.98360</td>\n",
       "    </tr>\n",
       "    <tr>\n",
       "      <th>1</th>\n",
       "      <td>26.71046</td>\n",
       "      <td>28.34528</td>\n",
       "      <td>im104_r</td>\n",
       "      <td>im104_r</td>\n",
       "      <td>False</td>\n",
       "      <td>NaN</td>\n",
       "      <td>False</td>\n",
       "      <td>False</td>\n",
       "      <td>[28.02817]</td>\n",
       "      <td>NaN</td>\n",
       "      <td>NaN</td>\n",
       "      <td>0.0</td>\n",
       "      <td>False</td>\n",
       "      <td>False</td>\n",
       "      <td>False</td>\n",
       "      <td>False</td>\n",
       "      <td>True</td>\n",
       "      <td>False</td>\n",
       "      <td>-99</td>\n",
       "      <td>1.63482</td>\n",
       "    </tr>\n",
       "    <tr>\n",
       "      <th>2</th>\n",
       "      <td>28.96234</td>\n",
       "      <td>32.73245</td>\n",
       "      <td>im104_r</td>\n",
       "      <td>im104_r</td>\n",
       "      <td>False</td>\n",
       "      <td>NaN</td>\n",
       "      <td>False</td>\n",
       "      <td>False</td>\n",
       "      <td>[32.39844]</td>\n",
       "      <td>NaN</td>\n",
       "      <td>NaN</td>\n",
       "      <td>0.0</td>\n",
       "      <td>False</td>\n",
       "      <td>False</td>\n",
       "      <td>False</td>\n",
       "      <td>False</td>\n",
       "      <td>True</td>\n",
       "      <td>False</td>\n",
       "      <td>-99</td>\n",
       "      <td>3.77011</td>\n",
       "    </tr>\n",
       "    <tr>\n",
       "      <th>3</th>\n",
       "      <td>33.46618</td>\n",
       "      <td>35.85175</td>\n",
       "      <td>im104_r</td>\n",
       "      <td>im104_r</td>\n",
       "      <td>False</td>\n",
       "      <td>NaN</td>\n",
       "      <td>False</td>\n",
       "      <td>False</td>\n",
       "      <td>[35.53463]</td>\n",
       "      <td>NaN</td>\n",
       "      <td>NaN</td>\n",
       "      <td>0.0</td>\n",
       "      <td>False</td>\n",
       "      <td>False</td>\n",
       "      <td>False</td>\n",
       "      <td>False</td>\n",
       "      <td>True</td>\n",
       "      <td>False</td>\n",
       "      <td>-99</td>\n",
       "      <td>2.38557</td>\n",
       "    </tr>\n",
       "    <tr>\n",
       "      <th>4</th>\n",
       "      <td>36.46863</td>\n",
       "      <td>39.62138</td>\n",
       "      <td>im104_r</td>\n",
       "      <td>im104_r</td>\n",
       "      <td>False</td>\n",
       "      <td>NaN</td>\n",
       "      <td>False</td>\n",
       "      <td>False</td>\n",
       "      <td>[39.15441, 39.28716]</td>\n",
       "      <td>NaN</td>\n",
       "      <td>NaN</td>\n",
       "      <td>0.0</td>\n",
       "      <td>False</td>\n",
       "      <td>False</td>\n",
       "      <td>False</td>\n",
       "      <td>False</td>\n",
       "      <td>True</td>\n",
       "      <td>False</td>\n",
       "      <td>-99</td>\n",
       "      <td>3.15275</td>\n",
       "    </tr>\n",
       "  </tbody>\n",
       "</table>\n",
       "</div>"
      ],
      "text/plain": [
       "           start_time  stop_time initial_image_name change_image_name  \\\n",
       "trials_id                                                               \n",
       "0            25.20983   26.19343            im104_r           im104_r   \n",
       "1            26.71046   28.34528            im104_r           im104_r   \n",
       "2            28.96234   32.73245            im104_r           im104_r   \n",
       "3            33.46618   35.85175            im104_r           im104_r   \n",
       "4            36.46863   39.62138            im104_r           im104_r   \n",
       "\n",
       "           is_change  change_time_no_display_delay     go  catch  \\\n",
       "trials_id                                                          \n",
       "0              False                           NaN  False  False   \n",
       "1              False                           NaN  False  False   \n",
       "2              False                           NaN  False  False   \n",
       "3              False                           NaN  False  False   \n",
       "4              False                           NaN  False  False   \n",
       "\n",
       "                     lick_times  response_time  reward_time  reward_volume  \\\n",
       "trials_id                                                                    \n",
       "0          [25.72637, 25.87602]            NaN          NaN            0.0   \n",
       "1                    [28.02817]            NaN          NaN            0.0   \n",
       "2                    [32.39844]            NaN          NaN            0.0   \n",
       "3                    [35.53463]            NaN          NaN            0.0   \n",
       "4          [39.15441, 39.28716]            NaN          NaN            0.0   \n",
       "\n",
       "             hit  false_alarm   miss  correct_reject  aborted  auto_rewarded  \\\n",
       "trials_id                                                                      \n",
       "0          False        False  False           False     True          False   \n",
       "1          False        False  False           False     True          False   \n",
       "2          False        False  False           False     True          False   \n",
       "3          False        False  False           False     True          False   \n",
       "4          False        False  False           False     True          False   \n",
       "\n",
       "           change_frame  trial_length  \n",
       "trials_id                              \n",
       "0                   -99       0.98360  \n",
       "1                   -99       1.63482  \n",
       "2                   -99       3.77011  \n",
       "3                   -99       2.38557  \n",
       "4                   -99       3.15275  "
      ]
     },
     "execution_count": 21,
     "metadata": {},
     "output_type": "execute_result"
    }
   ],
   "source": [
    "trials = session.trials\n",
    "trials.head()"
   ]
  },
  {
   "cell_type": "code",
   "execution_count": 22,
   "metadata": {},
   "outputs": [
    {
     "data": {
      "text/html": [
       "<div>\n",
       "<style scoped>\n",
       "    .dataframe tbody tr th:only-of-type {\n",
       "        vertical-align: middle;\n",
       "    }\n",
       "\n",
       "    .dataframe tbody tr th {\n",
       "        vertical-align: top;\n",
       "    }\n",
       "\n",
       "    .dataframe thead th {\n",
       "        text-align: right;\n",
       "    }\n",
       "</style>\n",
       "<table border=\"1\" class=\"dataframe\">\n",
       "  <thead>\n",
       "    <tr style=\"text-align: right;\">\n",
       "      <th></th>\n",
       "      <th>start_time</th>\n",
       "      <th>stop_time</th>\n",
       "      <th>initial_image_name</th>\n",
       "      <th>change_image_name</th>\n",
       "      <th>is_change</th>\n",
       "      <th>change_time_no_display_delay</th>\n",
       "      <th>go</th>\n",
       "      <th>catch</th>\n",
       "      <th>lick_times</th>\n",
       "      <th>response_time</th>\n",
       "      <th>reward_time</th>\n",
       "      <th>reward_volume</th>\n",
       "      <th>hit</th>\n",
       "      <th>false_alarm</th>\n",
       "      <th>miss</th>\n",
       "      <th>correct_reject</th>\n",
       "      <th>aborted</th>\n",
       "      <th>auto_rewarded</th>\n",
       "      <th>change_frame</th>\n",
       "      <th>trial_length</th>\n",
       "    </tr>\n",
       "    <tr>\n",
       "      <th>trials_id</th>\n",
       "      <th></th>\n",
       "      <th></th>\n",
       "      <th></th>\n",
       "      <th></th>\n",
       "      <th></th>\n",
       "      <th></th>\n",
       "      <th></th>\n",
       "      <th></th>\n",
       "      <th></th>\n",
       "      <th></th>\n",
       "      <th></th>\n",
       "      <th></th>\n",
       "      <th></th>\n",
       "      <th></th>\n",
       "      <th></th>\n",
       "      <th></th>\n",
       "      <th></th>\n",
       "      <th></th>\n",
       "      <th></th>\n",
       "      <th></th>\n",
       "    </tr>\n",
       "  </thead>\n",
       "  <tbody>\n",
       "    <tr>\n",
       "      <th>595</th>\n",
       "      <td>3611.49208</td>\n",
       "      <td>3618.76483</td>\n",
       "      <td>im083_r</td>\n",
       "      <td>im024_r</td>\n",
       "      <td>True</td>\n",
       "      <td>3614.49490</td>\n",
       "      <td>True</td>\n",
       "      <td>False</td>\n",
       "      <td>[3614.97902, 3615.11108, 3615.22784, 3615.3446...</td>\n",
       "      <td>3614.97902</td>\n",
       "      <td>3614.97902</td>\n",
       "      <td>0.003</td>\n",
       "      <td>True</td>\n",
       "      <td>False</td>\n",
       "      <td>False</td>\n",
       "      <td>False</td>\n",
       "      <td>False</td>\n",
       "      <td>False</td>\n",
       "      <td>215234</td>\n",
       "      <td>7.27275</td>\n",
       "    </tr>\n",
       "    <tr>\n",
       "      <th>596</th>\n",
       "      <td>3618.99803</td>\n",
       "      <td>3619.59865</td>\n",
       "      <td>im024_r</td>\n",
       "      <td>im024_r</td>\n",
       "      <td>False</td>\n",
       "      <td>NaN</td>\n",
       "      <td>False</td>\n",
       "      <td>False</td>\n",
       "      <td>[3619.28223]</td>\n",
       "      <td>NaN</td>\n",
       "      <td>NaN</td>\n",
       "      <td>0.000</td>\n",
       "      <td>False</td>\n",
       "      <td>False</td>\n",
       "      <td>False</td>\n",
       "      <td>False</td>\n",
       "      <td>True</td>\n",
       "      <td>False</td>\n",
       "      <td>-99</td>\n",
       "      <td>0.60062</td>\n",
       "    </tr>\n",
       "    <tr>\n",
       "      <th>597</th>\n",
       "      <td>3619.74882</td>\n",
       "      <td>3622.36770</td>\n",
       "      <td>im024_r</td>\n",
       "      <td>im024_r</td>\n",
       "      <td>False</td>\n",
       "      <td>NaN</td>\n",
       "      <td>False</td>\n",
       "      <td>False</td>\n",
       "      <td>[3621.73408, 3621.83335, 3621.9336, 3622.06724...</td>\n",
       "      <td>NaN</td>\n",
       "      <td>NaN</td>\n",
       "      <td>0.000</td>\n",
       "      <td>False</td>\n",
       "      <td>False</td>\n",
       "      <td>False</td>\n",
       "      <td>False</td>\n",
       "      <td>True</td>\n",
       "      <td>False</td>\n",
       "      <td>-99</td>\n",
       "      <td>2.61888</td>\n",
       "    </tr>\n",
       "    <tr>\n",
       "      <th>598</th>\n",
       "      <td>3622.75138</td>\n",
       "      <td>3623.11829</td>\n",
       "      <td>im024_r</td>\n",
       "      <td>im024_r</td>\n",
       "      <td>False</td>\n",
       "      <td>NaN</td>\n",
       "      <td>False</td>\n",
       "      <td>False</td>\n",
       "      <td>[3622.81796, 3623.23466]</td>\n",
       "      <td>NaN</td>\n",
       "      <td>NaN</td>\n",
       "      <td>0.000</td>\n",
       "      <td>False</td>\n",
       "      <td>False</td>\n",
       "      <td>False</td>\n",
       "      <td>False</td>\n",
       "      <td>True</td>\n",
       "      <td>False</td>\n",
       "      <td>-99</td>\n",
       "      <td>0.36691</td>\n",
       "    </tr>\n",
       "    <tr>\n",
       "      <th>599</th>\n",
       "      <td>3623.50198</td>\n",
       "      <td>3631.50933</td>\n",
       "      <td>im024_r</td>\n",
       "      <td>im024_r</td>\n",
       "      <td>False</td>\n",
       "      <td>3627.25499</td>\n",
       "      <td>False</td>\n",
       "      <td>True</td>\n",
       "      <td>[]</td>\n",
       "      <td>NaN</td>\n",
       "      <td>NaN</td>\n",
       "      <td>0.000</td>\n",
       "      <td>False</td>\n",
       "      <td>False</td>\n",
       "      <td>False</td>\n",
       "      <td>True</td>\n",
       "      <td>False</td>\n",
       "      <td>False</td>\n",
       "      <td>215999</td>\n",
       "      <td>8.00735</td>\n",
       "    </tr>\n",
       "  </tbody>\n",
       "</table>\n",
       "</div>"
      ],
      "text/plain": [
       "           start_time   stop_time initial_image_name change_image_name  \\\n",
       "trials_id                                                                \n",
       "595        3611.49208  3618.76483            im083_r           im024_r   \n",
       "596        3618.99803  3619.59865            im024_r           im024_r   \n",
       "597        3619.74882  3622.36770            im024_r           im024_r   \n",
       "598        3622.75138  3623.11829            im024_r           im024_r   \n",
       "599        3623.50198  3631.50933            im024_r           im024_r   \n",
       "\n",
       "           is_change  change_time_no_display_delay     go  catch  \\\n",
       "trials_id                                                          \n",
       "595             True                    3614.49490   True  False   \n",
       "596            False                           NaN  False  False   \n",
       "597            False                           NaN  False  False   \n",
       "598            False                           NaN  False  False   \n",
       "599            False                    3627.25499  False   True   \n",
       "\n",
       "                                                  lick_times  response_time  \\\n",
       "trials_id                                                                     \n",
       "595        [3614.97902, 3615.11108, 3615.22784, 3615.3446...     3614.97902   \n",
       "596                                             [3619.28223]            NaN   \n",
       "597        [3621.73408, 3621.83335, 3621.9336, 3622.06724...            NaN   \n",
       "598                                 [3622.81796, 3623.23466]            NaN   \n",
       "599                                                       []            NaN   \n",
       "\n",
       "           reward_time  reward_volume    hit  false_alarm   miss  \\\n",
       "trials_id                                                          \n",
       "595         3614.97902          0.003   True        False  False   \n",
       "596                NaN          0.000  False        False  False   \n",
       "597                NaN          0.000  False        False  False   \n",
       "598                NaN          0.000  False        False  False   \n",
       "599                NaN          0.000  False        False  False   \n",
       "\n",
       "           correct_reject  aborted  auto_rewarded  change_frame  trial_length  \n",
       "trials_id                                                                      \n",
       "595                 False    False          False        215234       7.27275  \n",
       "596                 False     True          False           -99       0.60062  \n",
       "597                 False     True          False           -99       2.61888  \n",
       "598                 False     True          False           -99       0.36691  \n",
       "599                  True    False          False        215999       8.00735  "
      ]
     },
     "execution_count": 22,
     "metadata": {},
     "output_type": "execute_result"
    }
   ],
   "source": [
    "trials.tail()"
   ]
  },
  {
   "cell_type": "markdown",
   "metadata": {},
   "source": [
    "_or frome the behavior_session directly:_\n",
    "\n",
    "Can get ids from `behavior_sessions_table`-- which contains metadata for each behavior session. Some behavior sessions have Neuropixels data associated with them, while others took place during training in the behavior facility. The different training stages that mice progressed through are described by the session_type"
   ]
  },
  {
   "cell_type": "code",
   "execution_count": 138,
   "metadata": {},
   "outputs": [
    {
     "data": {
      "text/plain": [
       "{'equipment_name': 'NP.1',\n",
       " 'sex': 'M',\n",
       " 'age_in_days': 180,\n",
       " 'stimulus_frame_rate': 60.0,\n",
       " 'session_type': 'EPHYS_1_images_H_3uL_reward',\n",
       " 'date_of_acquisition': datetime.datetime(2020, 10, 2, 0, 3, 58, tzinfo=tzutc()),\n",
       " 'reporter_line': 'Ai32(RCL-ChR2(H134R)_EYFP)',\n",
       " 'cre_line': 'Sst-IRES-Cre',\n",
       " 'behavior_session_uuid': UUID('330937b4-ec9e-4bc4-8567-f74666f52596'),\n",
       " 'driver_line': ['Sst-IRES-Cre'],\n",
       " 'mouse_id': '527749',\n",
       " 'project_code': 'Not Available',\n",
       " 'full_genotype': 'Sst-IRES-Cre/wt;Ai32(RCL-ChR2(H134R)_EYFP)/wt',\n",
       " 'behavior_session_id': 1053960987,\n",
       " 'ecephys_session_id': 1053941483}"
      ]
     },
     "execution_count": 138,
     "metadata": {},
     "output_type": "execute_result"
    }
   ],
   "source": [
    "metadata"
   ]
  },
  {
   "cell_type": "code",
   "execution_count": 12,
   "metadata": {},
   "outputs": [],
   "source": [
    "# behavior_session_id = metadata['behavior_session_id']\n",
    "behavior_session_id = 1053960987"
   ]
  },
  {
   "cell_type": "code",
   "execution_count": 13,
   "metadata": {},
   "outputs": [
    {
     "name": "stderr",
     "output_type": "stream",
     "text": [
      "/opt/anaconda3/envs/swdb2024/lib/python3.9/site-packages/hdmf/utils.py:668: UserWarning: Ignoring cached namespace 'core' version 2.6.0-alpha because version 2.7.0 is already loaded.\n",
      "  return func(args[0], **pargs)\n"
     ]
    }
   ],
   "source": [
    "behavior_session = cache.get_behavior_session(behavior_session_id)"
   ]
  },
  {
   "cell_type": "code",
   "execution_count": 25,
   "metadata": {},
   "outputs": [
    {
     "data": {
      "text/plain": [
       "['behavior_session_id',\n",
       " 'eye_tracking',\n",
       " 'eye_tracking_rig_geometry',\n",
       " 'get_performance_metrics',\n",
       " 'get_reward_rate',\n",
       " 'get_rolling_performance_df',\n",
       " 'licks',\n",
       " 'metadata',\n",
       " 'raw_running_speed',\n",
       " 'rewards',\n",
       " 'running_speed',\n",
       " 'stimulus_presentations',\n",
       " 'stimulus_templates',\n",
       " 'stimulus_timestamps',\n",
       " 'task_parameters',\n",
       " 'trials']"
      ]
     },
     "execution_count": 25,
     "metadata": {},
     "output_type": "execute_result"
    }
   ],
   "source": [
    "behavior_session.list_data_attributes_and_methods()"
   ]
  },
  {
   "cell_type": "code",
   "execution_count": 26,
   "metadata": {},
   "outputs": [
    {
     "data": {
      "text/html": [
       "<div>\n",
       "<style scoped>\n",
       "    .dataframe tbody tr th:only-of-type {\n",
       "        vertical-align: middle;\n",
       "    }\n",
       "\n",
       "    .dataframe tbody tr th {\n",
       "        vertical-align: top;\n",
       "    }\n",
       "\n",
       "    .dataframe thead th {\n",
       "        text-align: right;\n",
       "    }\n",
       "</style>\n",
       "<table border=\"1\" class=\"dataframe\">\n",
       "  <thead>\n",
       "    <tr style=\"text-align: right;\">\n",
       "      <th></th>\n",
       "      <th>start_time</th>\n",
       "      <th>stop_time</th>\n",
       "      <th>initial_image_name</th>\n",
       "      <th>change_image_name</th>\n",
       "      <th>is_change</th>\n",
       "      <th>change_time_no_display_delay</th>\n",
       "      <th>go</th>\n",
       "      <th>catch</th>\n",
       "      <th>lick_times</th>\n",
       "      <th>response_time</th>\n",
       "      <th>reward_time</th>\n",
       "      <th>reward_volume</th>\n",
       "      <th>hit</th>\n",
       "      <th>false_alarm</th>\n",
       "      <th>miss</th>\n",
       "      <th>correct_reject</th>\n",
       "      <th>aborted</th>\n",
       "      <th>auto_rewarded</th>\n",
       "      <th>change_frame</th>\n",
       "      <th>trial_length</th>\n",
       "    </tr>\n",
       "    <tr>\n",
       "      <th>trials_id</th>\n",
       "      <th></th>\n",
       "      <th></th>\n",
       "      <th></th>\n",
       "      <th></th>\n",
       "      <th></th>\n",
       "      <th></th>\n",
       "      <th></th>\n",
       "      <th></th>\n",
       "      <th></th>\n",
       "      <th></th>\n",
       "      <th></th>\n",
       "      <th></th>\n",
       "      <th></th>\n",
       "      <th></th>\n",
       "      <th></th>\n",
       "      <th></th>\n",
       "      <th></th>\n",
       "      <th></th>\n",
       "      <th></th>\n",
       "      <th></th>\n",
       "    </tr>\n",
       "  </thead>\n",
       "  <tbody>\n",
       "    <tr>\n",
       "      <th>595</th>\n",
       "      <td>3611.49208</td>\n",
       "      <td>3618.76483</td>\n",
       "      <td>im083_r</td>\n",
       "      <td>im024_r</td>\n",
       "      <td>True</td>\n",
       "      <td>3614.49490</td>\n",
       "      <td>True</td>\n",
       "      <td>False</td>\n",
       "      <td>[3614.97902, 3615.11108, 3615.22784, 3615.3446...</td>\n",
       "      <td>3614.97902</td>\n",
       "      <td>3614.97902</td>\n",
       "      <td>0.003</td>\n",
       "      <td>True</td>\n",
       "      <td>False</td>\n",
       "      <td>False</td>\n",
       "      <td>False</td>\n",
       "      <td>False</td>\n",
       "      <td>False</td>\n",
       "      <td>215234</td>\n",
       "      <td>7.27275</td>\n",
       "    </tr>\n",
       "    <tr>\n",
       "      <th>596</th>\n",
       "      <td>3618.99803</td>\n",
       "      <td>3619.59865</td>\n",
       "      <td>im024_r</td>\n",
       "      <td>im024_r</td>\n",
       "      <td>False</td>\n",
       "      <td>NaN</td>\n",
       "      <td>False</td>\n",
       "      <td>False</td>\n",
       "      <td>[3619.28223]</td>\n",
       "      <td>NaN</td>\n",
       "      <td>NaN</td>\n",
       "      <td>0.000</td>\n",
       "      <td>False</td>\n",
       "      <td>False</td>\n",
       "      <td>False</td>\n",
       "      <td>False</td>\n",
       "      <td>True</td>\n",
       "      <td>False</td>\n",
       "      <td>-99</td>\n",
       "      <td>0.60062</td>\n",
       "    </tr>\n",
       "    <tr>\n",
       "      <th>597</th>\n",
       "      <td>3619.74882</td>\n",
       "      <td>3622.36770</td>\n",
       "      <td>im024_r</td>\n",
       "      <td>im024_r</td>\n",
       "      <td>False</td>\n",
       "      <td>NaN</td>\n",
       "      <td>False</td>\n",
       "      <td>False</td>\n",
       "      <td>[3621.73408, 3621.83335, 3621.9336, 3622.06724...</td>\n",
       "      <td>NaN</td>\n",
       "      <td>NaN</td>\n",
       "      <td>0.000</td>\n",
       "      <td>False</td>\n",
       "      <td>False</td>\n",
       "      <td>False</td>\n",
       "      <td>False</td>\n",
       "      <td>True</td>\n",
       "      <td>False</td>\n",
       "      <td>-99</td>\n",
       "      <td>2.61888</td>\n",
       "    </tr>\n",
       "    <tr>\n",
       "      <th>598</th>\n",
       "      <td>3622.75138</td>\n",
       "      <td>3623.11829</td>\n",
       "      <td>im024_r</td>\n",
       "      <td>im024_r</td>\n",
       "      <td>False</td>\n",
       "      <td>NaN</td>\n",
       "      <td>False</td>\n",
       "      <td>False</td>\n",
       "      <td>[3622.81796, 3623.23466]</td>\n",
       "      <td>NaN</td>\n",
       "      <td>NaN</td>\n",
       "      <td>0.000</td>\n",
       "      <td>False</td>\n",
       "      <td>False</td>\n",
       "      <td>False</td>\n",
       "      <td>False</td>\n",
       "      <td>True</td>\n",
       "      <td>False</td>\n",
       "      <td>-99</td>\n",
       "      <td>0.36691</td>\n",
       "    </tr>\n",
       "    <tr>\n",
       "      <th>599</th>\n",
       "      <td>3623.50198</td>\n",
       "      <td>3631.50933</td>\n",
       "      <td>im024_r</td>\n",
       "      <td>im024_r</td>\n",
       "      <td>False</td>\n",
       "      <td>3627.25499</td>\n",
       "      <td>False</td>\n",
       "      <td>True</td>\n",
       "      <td>[]</td>\n",
       "      <td>NaN</td>\n",
       "      <td>NaN</td>\n",
       "      <td>0.000</td>\n",
       "      <td>False</td>\n",
       "      <td>False</td>\n",
       "      <td>False</td>\n",
       "      <td>True</td>\n",
       "      <td>False</td>\n",
       "      <td>False</td>\n",
       "      <td>215999</td>\n",
       "      <td>8.00735</td>\n",
       "    </tr>\n",
       "  </tbody>\n",
       "</table>\n",
       "</div>"
      ],
      "text/plain": [
       "           start_time   stop_time initial_image_name change_image_name  \\\n",
       "trials_id                                                                \n",
       "595        3611.49208  3618.76483            im083_r           im024_r   \n",
       "596        3618.99803  3619.59865            im024_r           im024_r   \n",
       "597        3619.74882  3622.36770            im024_r           im024_r   \n",
       "598        3622.75138  3623.11829            im024_r           im024_r   \n",
       "599        3623.50198  3631.50933            im024_r           im024_r   \n",
       "\n",
       "           is_change  change_time_no_display_delay     go  catch  \\\n",
       "trials_id                                                          \n",
       "595             True                    3614.49490   True  False   \n",
       "596            False                           NaN  False  False   \n",
       "597            False                           NaN  False  False   \n",
       "598            False                           NaN  False  False   \n",
       "599            False                    3627.25499  False   True   \n",
       "\n",
       "                                                  lick_times  response_time  \\\n",
       "trials_id                                                                     \n",
       "595        [3614.97902, 3615.11108, 3615.22784, 3615.3446...     3614.97902   \n",
       "596                                             [3619.28223]            NaN   \n",
       "597        [3621.73408, 3621.83335, 3621.9336, 3622.06724...            NaN   \n",
       "598                                 [3622.81796, 3623.23466]            NaN   \n",
       "599                                                       []            NaN   \n",
       "\n",
       "           reward_time  reward_volume    hit  false_alarm   miss  \\\n",
       "trials_id                                                          \n",
       "595         3614.97902          0.003   True        False  False   \n",
       "596                NaN          0.000  False        False  False   \n",
       "597                NaN          0.000  False        False  False   \n",
       "598                NaN          0.000  False        False  False   \n",
       "599                NaN          0.000  False        False  False   \n",
       "\n",
       "           correct_reject  aborted  auto_rewarded  change_frame  trial_length  \n",
       "trials_id                                                                      \n",
       "595                 False    False          False        215234       7.27275  \n",
       "596                 False     True          False           -99       0.60062  \n",
       "597                 False     True          False           -99       2.61888  \n",
       "598                 False     True          False           -99       0.36691  \n",
       "599                  True    False          False        215999       8.00735  "
      ]
     },
     "execution_count": 26,
     "metadata": {},
     "output_type": "execute_result"
    }
   ],
   "source": [
    "behavior_session.trials.tail()"
   ]
  },
  {
   "cell_type": "code",
   "execution_count": 27,
   "metadata": {},
   "outputs": [
    {
     "data": {
      "text/plain": [
       "Index(['start_time', 'stop_time', 'initial_image_name', 'change_image_name',\n",
       "       'is_change', 'change_time_no_display_delay', 'go', 'catch',\n",
       "       'lick_times', 'response_time', 'reward_time', 'reward_volume', 'hit',\n",
       "       'false_alarm', 'miss', 'correct_reject', 'aborted', 'auto_rewarded',\n",
       "       'change_frame', 'trial_length'],\n",
       "      dtype='object')"
      ]
     },
     "execution_count": 27,
     "metadata": {},
     "output_type": "execute_result"
    }
   ],
   "source": [
    "trials.columns "
   ]
  },
  {
   "cell_type": "markdown",
   "metadata": {},
   "source": [
    "It's the same thing!"
   ]
  },
  {
   "cell_type": "markdown",
   "metadata": {},
   "source": [
    "__Some more info about attributes in `behavior_session`:__"
   ]
  },
  {
   "cell_type": "code",
   "execution_count": 59,
   "metadata": {},
   "outputs": [
    {
     "name": "stdout",
     "output_type": "stream",
     "text": [
      "Help on method get_reward_rate in module allensdk.brain_observatory.behavior.behavior_session:\n",
      "\n",
      "get_reward_rate() -> numpy.ndarray method of allensdk.brain_observatory.behavior.behavior_session.BehaviorSession instance\n",
      "    Get the reward rate of the subject for the task calculated over a\n",
      "    25 trial rolling window and provides a measure of the rewards\n",
      "    earned per unit time (in units of rewards/minute).\n",
      "    \n",
      "    Returns\n",
      "    -------\n",
      "    np.ndarray\n",
      "        The reward rate (rewards/minute) of the subject for the\n",
      "        task calculated over a 25 trial rolling window.\n",
      "\n"
     ]
    }
   ],
   "source": [
    "help(behavior_session.get_reward_rate)"
   ]
  },
  {
   "cell_type": "code",
   "execution_count": 29,
   "metadata": {},
   "outputs": [
    {
     "data": {
      "text/plain": [
       "{'trial_count': 600,\n",
       " 'go_trial_count': 295,\n",
       " 'catch_trial_count': 44,\n",
       " 'hit_trial_count': 139,\n",
       " 'miss_trial_count': 156,\n",
       " 'false_alarm_trial_count': 1,\n",
       " 'correct_reject_trial_count': 43,\n",
       " 'auto_reward_count': 3,\n",
       " 'earned_reward_count': 139,\n",
       " 'total_reward_count': 142,\n",
       " 'total_reward_volume': 0.43199999999999994,\n",
       " 'maximum_reward_rate': 5.033826263778787,\n",
       " 'engaged_trial_count': 440,\n",
       " 'mean_hit_rate': 0.47388024381123905,\n",
       " 'mean_hit_rate_uncorrected': 0.4765842752763324,\n",
       " 'mean_hit_rate_engaged': 0.535890015217069,\n",
       " 'mean_false_alarm_rate': 0.06851317111891128,\n",
       " 'mean_false_alarm_rate_uncorrected': 0.02273562288668029,\n",
       " 'mean_false_alarm_rate_engaged': 0.06896672016964904,\n",
       " 'mean_dprime': 1.4274968629298022,\n",
       " 'mean_dprime_engaged': 1.6116689051369812,\n",
       " 'max_dprime': 2.2015497100616526,\n",
       " 'max_dprime_engaged': 2.2015497100616526}"
      ]
     },
     "execution_count": 29,
     "metadata": {},
     "output_type": "execute_result"
    }
   ],
   "source": [
    "behavior_session.get_performance_metrics()"
   ]
  },
  {
   "cell_type": "code",
   "execution_count": 30,
   "metadata": {},
   "outputs": [
    {
     "data": {
      "text/plain": [
       "600"
      ]
     },
     "execution_count": 30,
     "metadata": {},
     "output_type": "execute_result"
    }
   ],
   "source": [
    "len(behavior_session.get_reward_rate()) # how is this defined? (for every trail actually)"
   ]
  },
  {
   "cell_type": "markdown",
   "metadata": {},
   "source": [
    "<span style=\"color:orange\">__Notes__:</span> that `trails` do not contain information about the the stimulus content\n",
    "\n",
    "<span style=\"color:orange\">__Question__:</span> what exactly compose of a trial? See `definition.md` and below plotting\n"
   ]
  },
  {
   "cell_type": "markdown",
   "metadata": {},
   "source": [
    "### Also useful, stimulus table"
   ]
  },
  {
   "cell_type": "code",
   "execution_count": 31,
   "metadata": {},
   "outputs": [],
   "source": [
    "stim_table = behavior_session.stimulus_presentations"
   ]
  },
  {
   "cell_type": "code",
   "execution_count": 32,
   "metadata": {},
   "outputs": [
    {
     "name": "stdout",
     "output_type": "stream",
     "text": [
      "# of stimulus presentations in session: 13405\n"
     ]
    }
   ],
   "source": [
    "print(\"# of stimulus presentations in session:\", len(stim_table))"
   ]
  },
  {
   "cell_type": "code",
   "execution_count": 55,
   "metadata": {},
   "outputs": [
    {
     "name": "stdout",
     "output_type": "stream",
     "text": [
      "# of stimulus presentations in active session: 4804\n"
     ]
    }
   ],
   "source": [
    "print(\"# of stimulus presentations in active session:\",np.sum(stim_table['active']))"
   ]
  },
  {
   "cell_type": "markdown",
   "metadata": {},
   "source": [
    "### Visualize behavior trial data on raster plot\n"
   ]
  },
  {
   "cell_type": "code",
   "execution_count": 34,
   "metadata": {},
   "outputs": [
    {
     "name": "stdout",
     "output_type": "stream",
     "text": [
      "['im104_r' 'im034_r' 'im005_r' 'omitted' 'im024_r' 'im087_r']\n"
     ]
    }
   ],
   "source": [
    "start_time = 300\n",
    "end_time = 380\n",
    "\n",
    "trials_for_plot = trials[(trials.start_time>start_time) & (trials.start_time<end_time)]\n",
    "stim_times = stim_table[(stim_table.start_time>start_time) & (stim_table.start_time<end_time)]\n",
    "\n",
    "# What are the unique stimulus image names\n",
    "unique_stim = stim_times.image_name.unique()\n",
    "print(unique_stim)"
   ]
  },
  {
   "cell_type": "code",
   "execution_count": 35,
   "metadata": {},
   "outputs": [
    {
     "name": "stdout",
     "output_type": "stream",
     "text": [
      "Plotting 15 example trails\n"
     ]
    }
   ],
   "source": [
    "print(f\"Plotting {len(trials_for_plot)} example trails.\")"
   ]
  },
  {
   "cell_type": "code",
   "execution_count": 36,
   "metadata": {},
   "outputs": [
    {
     "data": {
      "text/plain": [
       "{'im104_r': 'blue',\n",
       " 'im034_r': 'green',\n",
       " 'im005_r': 'purple',\n",
       " 'omitted': 'gray',\n",
       " 'im024_r': 'yellow',\n",
       " 'im087_r': 'orange'}"
      ]
     },
     "execution_count": 36,
     "metadata": {},
     "output_type": "execute_result"
    }
   ],
   "source": [
    "# Map color to each image\n",
    "colors = ['blue','green','purple','gray', 'yellow', 'orange', 'red']\n",
    "color_stim_dict = dict(zip(unique_stim,colors))\n",
    "color_stim_dict"
   ]
  },
  {
   "cell_type": "code",
   "execution_count": 37,
   "metadata": {},
   "outputs": [],
   "source": [
    "# Get lick times\n",
    "lick_times = trials_for_plot.lick_times.values\n",
    "lick_times = np.concatenate(lick_times) # Flatten array of arrays to 1D array\n",
    "reward_times = trials_for_plot.reward_time.values"
   ]
  },
  {
   "cell_type": "code",
   "execution_count": 106,
   "metadata": {},
   "outputs": [
    {
     "name": "stderr",
     "output_type": "stream",
     "text": [
      "/var/folders/45/vxs3qxtn0ql1mmj2dm1w3zxw0000gp/T/ipykernel_22166/334846785.py:18: SettingWithCopyWarning: \n",
      "A value is trying to be set on a copy of a slice from a DataFrame.\n",
      "Try using .loc[row_indexer,col_indexer] = value instead\n",
      "\n",
      "See the caveats in the documentation: https://pandas.pydata.org/pandas-docs/stable/user_guide/indexing.html#returning-a-view-versus-a-copy\n",
      "  trials_for_plot['performance'] = trials_for_plot.apply(get_performance, axis=1)\n"
     ]
    }
   ],
   "source": [
    "# Define color map for performance types\n",
    "performance_color_map = {\n",
    "    'hit': 'blue',\n",
    "    'miss': 'red',\n",
    "    'aborted': 'yellow',\n",
    "    'correct_reject': 'green',\n",
    "    'auto_rewarded': 'purple',\n",
    "    'false_alarm': 'orange'\n",
    "}\n",
    "\n",
    "# Create a new 'performance' column\n",
    "def get_performance(row):\n",
    "    for perf_type in ['hit', 'miss', 'aborted', 'correct_reject']:\n",
    "        if row[perf_type]:\n",
    "            return perf_type\n",
    "    return 'unknown'  # In case none of the columns are True\n",
    "\n",
    "trials_for_plot['performance'] = trials_for_plot.apply(get_performance, axis=1)"
   ]
  },
  {
   "cell_type": "code",
   "execution_count": 136,
   "metadata": {},
   "outputs": [],
   "source": [
    "plot_dir = 'plots/explore/'"
   ]
  },
  {
   "cell_type": "code",
   "execution_count": 137,
   "metadata": {},
   "outputs": [
    {
     "data": {
      "image/png": "[encoded data removed]",
      "text/plain": [
       "<Figure size 3000x400 with 2 Axes>"
      ]
     },
     "metadata": {},
     "output_type": "display_data"
    }
   ],
   "source": [
    "# Create a figure with two subplots, one on top of the other\n",
    "fig, (ax1, ax2) = plt.subplots(2, 1, figsize=(30, 4), sharex=True, gridspec_kw={'height_ratios': [2, 1]})\n",
    "\n",
    "# First subplot (original plot)\n",
    "# Plot stimulus times\n",
    "for row in stim_times.iterrows():\n",
    "    t_start = row[1].start_time\n",
    "    ax1.axvspan(t_start, t_start+0.25, alpha=0.3, color=color_stim_dict[row[1].image_name], lw=0)\n",
    "\n",
    "# Plot lick and reward times\n",
    "ax1.eventplot(lick_times, lineoffsets=2.5, color='black', linewidth=1)\n",
    "ax1.plot(reward_times, np.ones_like(reward_times)*2.5, color='blue', marker='o', linestyle='')\n",
    "\n",
    "# Second subplot (trials)\n",
    "for _, trial in trials_for_plot.iterrows():\n",
    "    color = performance_color_map.get(trial.performance, 'gray')  # Use 'gray' if performance is unknown\n",
    "    ax2.axvspan(trial.start_time, trial.stop_time, alpha=0.3, color=color, lw=0)\n",
    "\n",
    "# Add labels and title\n",
    "ax1.set_title('Stimuli, Licks, and Rewards')\n",
    "ax2.set_title('Trial Performance')\n",
    "ax2.set_xlabel('Time (s)')\n",
    "\n",
    "# Remove x-axis label from the top subplot\n",
    "ax1.set_xlabel('')\n",
    "\n",
    "# Add a legend for the second subplot\n",
    "legend_elements = [Patch(facecolor=color, edgecolor='none', alpha=0.3, label=perf_type) \n",
    "                   for perf_type, color in performance_color_map.items()]\n",
    "ax2.legend(handles=legend_elements, loc='upper right', bbox_to_anchor=(1.1, 1))\n",
    "\n",
    "# Adjust layout and display\n",
    "plt.tight_layout()\n",
    "plt.show()\n",
    "\n",
    "fig.savefig(f'{plot_dir}example_session_period.pdf',)"
   ]
  },
  {
   "cell_type": "markdown",
   "metadata": {},
   "source": [
    "### All possible behavioral outcomes?"
   ]
  },
  {
   "cell_type": "code",
   "execution_count": 56,
   "metadata": {},
   "outputs": [
    {
     "data": {
      "text/plain": [
       "Index(['start_time', 'stop_time', 'initial_image_name', 'change_image_name',\n",
       "       'is_change', 'change_time_no_display_delay', 'go', 'catch',\n",
       "       'lick_times', 'response_time', 'reward_time', 'reward_volume', 'hit',\n",
       "       'false_alarm', 'miss', 'correct_reject', 'aborted', 'auto_rewarded',\n",
       "       'change_frame', 'trial_length', 'performance'],\n",
       "      dtype='object')"
      ]
     },
     "execution_count": 56,
     "metadata": {},
     "output_type": "execute_result"
    }
   ],
   "source": [
    "trials.columns"
   ]
  },
  {
   "cell_type": "markdown",
   "metadata": {},
   "source": [
    "Great! There actually exactly four possibilities."
   ]
  },
  {
   "cell_type": "code",
   "execution_count": 41,
   "metadata": {},
   "outputs": [
    {
     "name": "stdout",
     "output_type": "stream",
     "text": [
      "Total number of rows: 600\n",
      "Rows with exactly one True value: 600\n",
      "Rows with at least one True value: 600\n",
      "\n",
      "All rows have exactly one True value among the specified columns.\n",
      "\n",
      "All rows have at least one True value among the specified columns.\n"
     ]
    }
   ],
   "source": [
    "boolean_columns = ['hit', 'miss', 'auto_rewarded', 'correct_reject', 'aborted', 'false_alarm']\n",
    "\n",
    "# Check if only one column is True for each row\n",
    "only_one_true = (trials[boolean_columns].sum(axis=1) == 1)\n",
    "\n",
    "# Check if at least one column is True for each row\n",
    "at_least_one_true = (trials[boolean_columns].sum(axis=1) >= 1)\n",
    "\n",
    "# Results\n",
    "print(f\"Total number of rows: {len(trials)}\")\n",
    "print(f\"Rows with exactly one True value: {only_one_true.sum()}\")\n",
    "print(f\"Rows with at least one True value: {at_least_one_true.sum()}\")\n",
    "\n",
    "# Check if all rows have exactly one True value\n",
    "if only_one_true.all():\n",
    "    print(\"\\nAll rows have exactly one True value among the specified columns.\")\n",
    "else:\n",
    "    print(\"Some rows do not have exactly one True value among the specified columns.\")\n",
    "    \n",
    "    # Identify problematic rows\n",
    "    problematic_rows = trials[~only_one_true]\n",
    "    print(f\"\\nNumber of problematic rows: {len(problematic_rows)}\")\n",
    "    print(\"\\nFirst few problematic rows:\")\n",
    "    print(problematic_rows[boolean_columns].head())\n",
    "\n",
    "# Check if all rows have at least one True value\n",
    "if at_least_one_true.all():\n",
    "    print(\"\\nAll rows have at least one True value among the specified columns.\")\n",
    "else:\n",
    "    print(\"\\nSome rows do not have any True value among the specified columns.\")\n",
    "    \n",
    "    # Identify rows with no True values\n",
    "    no_true_rows = trials[~at_least_one_true]\n",
    "    print(f\"\\nNumber of rows with no True values: {len(no_true_rows)}\")\n",
    "    print(\"\\nFirst few rows with no True values:\")\n",
    "    print(no_true_rows[boolean_columns].head())"
   ]
  },
  {
   "cell_type": "code",
   "execution_count": 45,
   "metadata": {},
   "outputs": [
    {
     "name": "stdout",
     "output_type": "stream",
     "text": [
      "\n",
      "All rows have been successfully categorized.\n"
     ]
    }
   ],
   "source": [
    "def get_performance(row):\n",
    "    for column in ['hit', 'miss', 'auto_rewarded', 'correct_reject', 'aborted', 'false_alarm']:\n",
    "        if row[column]:\n",
    "            return column\n",
    "    return 'unknown'  # This should never happen based on our previous check, but it's good practice to have a default\n",
    "\n",
    "# Create the new 'performance' column\n",
    "trials['performance'] = trials.apply(get_performance, axis=1)\n",
    "\n",
    "# Optional: Check if 'unknown' appears in the performance column (it shouldn't)\n",
    "if 'unknown' in trials['performance'].values:\n",
    "    print(\"\\nWarning: 'unknown' value found in performance column!\")\n",
    "else:\n",
    "    print(\"\\nAll rows have been successfully categorized.\")"
   ]
  },
  {
   "cell_type": "code",
   "execution_count": 47,
   "metadata": {},
   "outputs": [
    {
     "data": {
      "text/plain": [
       "aborted           258\n",
       "miss              156\n",
       "hit               139\n",
       "correct_reject     43\n",
       "auto_rewarded       3\n",
       "false_alarm         1\n",
       "Name: performance, dtype: int64"
      ]
     },
     "execution_count": 47,
     "metadata": {},
     "output_type": "execute_result"
    }
   ],
   "source": [
    "trials['performance'].value_counts()"
   ]
  },
  {
   "cell_type": "code",
   "execution_count": 50,
   "metadata": {},
   "outputs": [
    {
     "data": {
      "text/plain": [
       "298"
      ]
     },
     "execution_count": 50,
     "metadata": {},
     "output_type": "execute_result"
    }
   ],
   "source": [
    "np.sum(trials.is_change)"
   ]
  },
  {
   "cell_type": "markdown",
   "metadata": {},
   "source": [
    "`is_change` 298 = `miss` 156 + `hit` 139 + `auto_rewarded` 3\n",
    "\n",
    "<span style=\"color:orange\">__Comment__:</span> Reward related sensory stimuli is actually pretty scarse!\n",
    "\n",
    "For ~`5000` images shown, only `298` ended up being the change"
   ]
  },
  {
   "cell_type": "code",
   "execution_count": 83,
   "metadata": {},
   "outputs": [
    {
     "data": {
      "image/png": "[encoded data removed]",
      "text/plain": [
       "<Figure size 2000x200 with 1 Axes>"
      ]
     },
     "metadata": {},
     "output_type": "display_data"
    }
   ],
   "source": [
    "\n",
    "# Create a figure with a single subplot\n",
    "fig, ax = plt.subplots(figsize=(20, 2))  # Adjust the figure size for a flat and long plot\n",
    "\n",
    "# Plot trials\n",
    "for _, trial in trials.iterrows():\n",
    "    color = 'yellow' if trial.aborted == True else 'gray'\n",
    "    ax.axvspan(trial.start_time, trial.stop_time, alpha=0.3, color=color, lw=0)\n",
    "\n",
    "# # Set the x-axis limits\n",
    "# ax.set_xlim(0, 1000)\n",
    "\n",
    "# Remove y-axis ticks as they're not meaningful in this context\n",
    "ax.set_yticks([])\n",
    "\n",
    "# Add labels and title\n",
    "ax.set_xlabel('Time (s)')\n",
    "ax.set_title('Trial Performance: Aborted vs Other')\n",
    "\n",
    "\n",
    "legend_elements = [Patch(facecolor='yellow', edgecolor='none', alpha=0.3, label='Aborted'),\n",
    "                   Patch(facecolor='gray', edgecolor='none', alpha=0.3, label='Other')]\n",
    "ax.legend(handles=legend_elements, loc='upper right')\n",
    "\n",
    "# Adjust layout and display\n",
    "plt.tight_layout()\n",
    "plt.show()\n",
    "fig.savefig(f'{plot_dir}aborted_entire_session.pdf')"
   ]
  },
  {
   "cell_type": "code",
   "execution_count": 74,
   "metadata": {},
   "outputs": [
    {
     "data": {
      "text/plain": [
       "258"
      ]
     },
     "execution_count": 74,
     "metadata": {},
     "output_type": "execute_result"
    }
   ],
   "source": [
    "trials['aborted'].sum()"
   ]
  },
  {
   "cell_type": "code",
   "execution_count": 90,
   "metadata": {},
   "outputs": [
    {
     "name": "stdout",
     "output_type": "stream",
     "text": [
      "\n",
      "Total number of aborted trial clusters: 73\n",
      "Maximum number of consecutive aborted trials: 23\n",
      "Average duration of aborted trial clusters: 7.34 seconds\n"
     ]
    }
   ],
   "source": [
    "# Create a helper column to identify clusters of aborted trials\n",
    "trials['cluster_id'] = (trials['aborted'] != trials['aborted'].shift()).cumsum()\n",
    "\n",
    "# Filter for aborted trials and group by cluster_id\n",
    "aborted_groups = trials[trials['aborted']].groupby('cluster_id')\n",
    "\n",
    "# Create the aborted_cluster_df\n",
    "aborted_cluster_df = pd.DataFrame({\n",
    "    'start_row_index': aborted_groups.apply(lambda x: x.index[0]),  # This gets the original index\n",
    "    'start_time': aborted_groups['start_time'].first(),\n",
    "    'end_time': aborted_groups['stop_time'].last(),\n",
    "    'duration': aborted_groups['stop_time'].last() - aborted_groups['start_time'].first(),\n",
    "    'num_trials': aborted_groups.size()\n",
    "})\n",
    "\n",
    "# Reset index for cleaner output\n",
    "aborted_cluster_df = aborted_cluster_df.reset_index(drop=True)\n",
    "\n",
    "# Optional: Remove the helper column from the original dataframe\n",
    "trials = trials.drop('cluster_id', axis=1)\n",
    "\n",
    "# Print some summary statistics\n",
    "print(f\"\\nTotal number of aborted trial clusters: {len(aborted_cluster_df)}\")\n",
    "print(f\"Maximum number of consecutive aborted trials: {aborted_cluster_df['num_trials'].max()}\")\n",
    "print(f\"Average duration of aborted trial clusters: {aborted_cluster_df['duration'].mean():.2f} seconds\")"
   ]
  },
  {
   "cell_type": "code",
   "execution_count": 95,
   "metadata": {},
   "outputs": [
    {
     "data": {
      "text/html": [
       "<div>\n",
       "<style scoped>\n",
       "    .dataframe tbody tr th:only-of-type {\n",
       "        vertical-align: middle;\n",
       "    }\n",
       "\n",
       "    .dataframe tbody tr th {\n",
       "        vertical-align: top;\n",
       "    }\n",
       "\n",
       "    .dataframe thead th {\n",
       "        text-align: right;\n",
       "    }\n",
       "</style>\n",
       "<table border=\"1\" class=\"dataframe\">\n",
       "  <thead>\n",
       "    <tr style=\"text-align: right;\">\n",
       "      <th></th>\n",
       "      <th>start_row_index</th>\n",
       "      <th>start_time</th>\n",
       "      <th>end_time</th>\n",
       "      <th>duration</th>\n",
       "      <th>num_trials</th>\n",
       "    </tr>\n",
       "  </thead>\n",
       "  <tbody>\n",
       "    <tr>\n",
       "      <th>37</th>\n",
       "      <td>385</td>\n",
       "      <td>2773.60723</td>\n",
       "      <td>2810.4717</td>\n",
       "      <td>36.86447</td>\n",
       "      <td>23</td>\n",
       "    </tr>\n",
       "  </tbody>\n",
       "</table>\n",
       "</div>"
      ],
      "text/plain": [
       "    start_row_index  start_time   end_time  duration  num_trials\n",
       "37              385  2773.60723  2810.4717  36.86447          23"
      ]
     },
     "execution_count": 95,
     "metadata": {},
     "output_type": "execute_result"
    }
   ],
   "source": [
    "aborted_cluster_df[aborted_cluster_df['num_trials']== 23]"
   ]
  },
  {
   "cell_type": "code",
   "execution_count": 100,
   "metadata": {},
   "outputs": [
    {
     "data": {
      "text/plain": [
       "23"
      ]
     },
     "execution_count": 100,
     "metadata": {},
     "output_type": "execute_result"
    }
   ],
   "source": [
    "trials.iloc[385:385+ 23].aborted.sum()"
   ]
  },
  {
   "cell_type": "code",
   "execution_count": 105,
   "metadata": {},
   "outputs": [
    {
     "data": {
      "image/png": "[encoded data removed]",
      "text/plain": [
       "<Figure size 800x600 with 1 Axes>"
      ]
     },
     "metadata": {},
     "output_type": "display_data"
    },
    {
     "name": "stdout",
     "output_type": "stream",
     "text": [
      "Mean duration: 7.34 seconds\n",
      "Median duration: 5.27 seconds\n",
      "Min duration: 0.40 seconds\n",
      "Max duration: 36.86 seconds\n"
     ]
    }
   ],
   "source": [
    "# Create the histogram\n",
    "plt.figure(figsize=(8, 6))\n",
    "plt.hist(aborted_cluster_df['duration'], bins=20)\n",
    "\n",
    "# Add labels and title\n",
    "plt.xlabel('Duration (seconds)')\n",
    "plt.ylabel('Frequency')\n",
    "plt.title('Histogram of Aborted Trial Cluster Durations')\n",
    "\n",
    "# Add grid for better readability\n",
    "plt.grid(axis='y', alpha=0.75)\n",
    "\n",
    "# Display mean and median as vertical lines\n",
    "mean_duration = aborted_cluster_df['duration'].mean()\n",
    "median_duration = aborted_cluster_df['duration'].median()\n",
    "\n",
    "plt.axvline(mean_duration, color='r', linestyle='dashed', linewidth=2, label=f'Mean: {mean_duration:.2f}s')\n",
    "plt.axvline(median_duration, color='g', linestyle='dashed', linewidth=2, label=f'Median: {median_duration:.2f}s')\n",
    "\n",
    "# Add legend\n",
    "plt.legend()\n",
    "\n",
    "# Show the plot\n",
    "plt.tight_layout()\n",
    "plt.show()\n",
    "\n",
    "# Print some additional statistics\n",
    "print(f\"Mean duration: {mean_duration:.2f} seconds\")\n",
    "print(f\"Median duration: {median_duration:.2f} seconds\")\n",
    "print(f\"Min duration: {aborted_cluster_df['duration'].min():.2f} seconds\")\n",
    "print(f\"Max duration: {aborted_cluster_df['duration'].max():.2f} seconds\")"
   ]
  },
  {
   "cell_type": "markdown",
   "metadata": {},
   "source": [
    "### Performance composition"
   ]
  },
  {
   "cell_type": "code",
   "execution_count": 109,
   "metadata": {},
   "outputs": [
    {
     "data": {
      "text/plain": [
       "performance\n",
       "miss              1333.32906\n",
       "hit               1223.90637\n",
       "aborted            473.39013\n",
       "correct_reject     364.44783\n",
       "auto_rewarded       25.55474\n",
       "false_alarm         11.77681\n",
       "Name: duration, dtype: float64"
      ]
     },
     "execution_count": 109,
     "metadata": {},
     "output_type": "execute_result"
    }
   ],
   "source": [
    "trials['duration'] = trials['stop_time'] - trials['start_time']\n",
    "performance_durations = trials.groupby('performance')['duration'].sum().sort_values(ascending=False)\n",
    "\n",
    "performance_durations"
   ]
  },
  {
   "cell_type": "code",
   "execution_count": 114,
   "metadata": {},
   "outputs": [
    {
     "data": {
      "text/html": [
       "<div>\n",
       "<style scoped>\n",
       "    .dataframe tbody tr th:only-of-type {\n",
       "        vertical-align: middle;\n",
       "    }\n",
       "\n",
       "    .dataframe tbody tr th {\n",
       "        vertical-align: top;\n",
       "    }\n",
       "\n",
       "    .dataframe thead th {\n",
       "        text-align: right;\n",
       "    }\n",
       "</style>\n",
       "<table border=\"1\" class=\"dataframe\">\n",
       "  <thead>\n",
       "    <tr style=\"text-align: right;\">\n",
       "      <th></th>\n",
       "      <th>start_time</th>\n",
       "      <th>stop_time</th>\n",
       "      <th>initial_image_name</th>\n",
       "      <th>change_image_name</th>\n",
       "      <th>is_change</th>\n",
       "      <th>change_time_no_display_delay</th>\n",
       "      <th>go</th>\n",
       "      <th>catch</th>\n",
       "      <th>lick_times</th>\n",
       "      <th>response_time</th>\n",
       "      <th>...</th>\n",
       "      <th>false_alarm</th>\n",
       "      <th>miss</th>\n",
       "      <th>correct_reject</th>\n",
       "      <th>aborted</th>\n",
       "      <th>auto_rewarded</th>\n",
       "      <th>change_frame</th>\n",
       "      <th>trial_length</th>\n",
       "      <th>performance</th>\n",
       "      <th>aborted_change</th>\n",
       "      <th>duration</th>\n",
       "    </tr>\n",
       "    <tr>\n",
       "      <th>trials_id</th>\n",
       "      <th></th>\n",
       "      <th></th>\n",
       "      <th></th>\n",
       "      <th></th>\n",
       "      <th></th>\n",
       "      <th></th>\n",
       "      <th></th>\n",
       "      <th></th>\n",
       "      <th></th>\n",
       "      <th></th>\n",
       "      <th></th>\n",
       "      <th></th>\n",
       "      <th></th>\n",
       "      <th></th>\n",
       "      <th></th>\n",
       "      <th></th>\n",
       "      <th></th>\n",
       "      <th></th>\n",
       "      <th></th>\n",
       "      <th></th>\n",
       "      <th></th>\n",
       "    </tr>\n",
       "  </thead>\n",
       "  <tbody>\n",
       "    <tr>\n",
       "      <th>0</th>\n",
       "      <td>25.20983</td>\n",
       "      <td>26.19343</td>\n",
       "      <td>im104_r</td>\n",
       "      <td>im104_r</td>\n",
       "      <td>False</td>\n",
       "      <td>NaN</td>\n",
       "      <td>False</td>\n",
       "      <td>False</td>\n",
       "      <td>[25.72637, 25.87602]</td>\n",
       "      <td>NaN</td>\n",
       "      <td>...</td>\n",
       "      <td>False</td>\n",
       "      <td>False</td>\n",
       "      <td>False</td>\n",
       "      <td>True</td>\n",
       "      <td>False</td>\n",
       "      <td>-99</td>\n",
       "      <td>0.98360</td>\n",
       "      <td>aborted</td>\n",
       "      <td>1</td>\n",
       "      <td>0.98360</td>\n",
       "    </tr>\n",
       "    <tr>\n",
       "      <th>1</th>\n",
       "      <td>26.71046</td>\n",
       "      <td>28.34528</td>\n",
       "      <td>im104_r</td>\n",
       "      <td>im104_r</td>\n",
       "      <td>False</td>\n",
       "      <td>NaN</td>\n",
       "      <td>False</td>\n",
       "      <td>False</td>\n",
       "      <td>[28.02817]</td>\n",
       "      <td>NaN</td>\n",
       "      <td>...</td>\n",
       "      <td>False</td>\n",
       "      <td>False</td>\n",
       "      <td>False</td>\n",
       "      <td>True</td>\n",
       "      <td>False</td>\n",
       "      <td>-99</td>\n",
       "      <td>1.63482</td>\n",
       "      <td>aborted</td>\n",
       "      <td>1</td>\n",
       "      <td>1.63482</td>\n",
       "    </tr>\n",
       "    <tr>\n",
       "      <th>2</th>\n",
       "      <td>28.96234</td>\n",
       "      <td>32.73245</td>\n",
       "      <td>im104_r</td>\n",
       "      <td>im104_r</td>\n",
       "      <td>False</td>\n",
       "      <td>NaN</td>\n",
       "      <td>False</td>\n",
       "      <td>False</td>\n",
       "      <td>[32.39844]</td>\n",
       "      <td>NaN</td>\n",
       "      <td>...</td>\n",
       "      <td>False</td>\n",
       "      <td>False</td>\n",
       "      <td>False</td>\n",
       "      <td>True</td>\n",
       "      <td>False</td>\n",
       "      <td>-99</td>\n",
       "      <td>3.77011</td>\n",
       "      <td>aborted</td>\n",
       "      <td>1</td>\n",
       "      <td>3.77011</td>\n",
       "    </tr>\n",
       "    <tr>\n",
       "      <th>3</th>\n",
       "      <td>33.46618</td>\n",
       "      <td>35.85175</td>\n",
       "      <td>im104_r</td>\n",
       "      <td>im104_r</td>\n",
       "      <td>False</td>\n",
       "      <td>NaN</td>\n",
       "      <td>False</td>\n",
       "      <td>False</td>\n",
       "      <td>[35.53463]</td>\n",
       "      <td>NaN</td>\n",
       "      <td>...</td>\n",
       "      <td>False</td>\n",
       "      <td>False</td>\n",
       "      <td>False</td>\n",
       "      <td>True</td>\n",
       "      <td>False</td>\n",
       "      <td>-99</td>\n",
       "      <td>2.38557</td>\n",
       "      <td>aborted</td>\n",
       "      <td>1</td>\n",
       "      <td>2.38557</td>\n",
       "    </tr>\n",
       "    <tr>\n",
       "      <th>4</th>\n",
       "      <td>36.46863</td>\n",
       "      <td>39.62138</td>\n",
       "      <td>im104_r</td>\n",
       "      <td>im104_r</td>\n",
       "      <td>False</td>\n",
       "      <td>NaN</td>\n",
       "      <td>False</td>\n",
       "      <td>False</td>\n",
       "      <td>[39.15441, 39.28716]</td>\n",
       "      <td>NaN</td>\n",
       "      <td>...</td>\n",
       "      <td>False</td>\n",
       "      <td>False</td>\n",
       "      <td>False</td>\n",
       "      <td>True</td>\n",
       "      <td>False</td>\n",
       "      <td>-99</td>\n",
       "      <td>3.15275</td>\n",
       "      <td>aborted</td>\n",
       "      <td>1</td>\n",
       "      <td>3.15275</td>\n",
       "    </tr>\n",
       "    <tr>\n",
       "      <th>...</th>\n",
       "      <td>...</td>\n",
       "      <td>...</td>\n",
       "      <td>...</td>\n",
       "      <td>...</td>\n",
       "      <td>...</td>\n",
       "      <td>...</td>\n",
       "      <td>...</td>\n",
       "      <td>...</td>\n",
       "      <td>...</td>\n",
       "      <td>...</td>\n",
       "      <td>...</td>\n",
       "      <td>...</td>\n",
       "      <td>...</td>\n",
       "      <td>...</td>\n",
       "      <td>...</td>\n",
       "      <td>...</td>\n",
       "      <td>...</td>\n",
       "      <td>...</td>\n",
       "      <td>...</td>\n",
       "      <td>...</td>\n",
       "      <td>...</td>\n",
       "    </tr>\n",
       "    <tr>\n",
       "      <th>595</th>\n",
       "      <td>3611.49208</td>\n",
       "      <td>3618.76483</td>\n",
       "      <td>im083_r</td>\n",
       "      <td>im024_r</td>\n",
       "      <td>True</td>\n",
       "      <td>3614.49490</td>\n",
       "      <td>True</td>\n",
       "      <td>False</td>\n",
       "      <td>[3614.97902, 3615.11108, 3615.22784, 3615.3446...</td>\n",
       "      <td>3614.97902</td>\n",
       "      <td>...</td>\n",
       "      <td>False</td>\n",
       "      <td>False</td>\n",
       "      <td>False</td>\n",
       "      <td>False</td>\n",
       "      <td>False</td>\n",
       "      <td>215234</td>\n",
       "      <td>7.27275</td>\n",
       "      <td>hit</td>\n",
       "      <td>144</td>\n",
       "      <td>7.27275</td>\n",
       "    </tr>\n",
       "    <tr>\n",
       "      <th>596</th>\n",
       "      <td>3618.99803</td>\n",
       "      <td>3619.59865</td>\n",
       "      <td>im024_r</td>\n",
       "      <td>im024_r</td>\n",
       "      <td>False</td>\n",
       "      <td>NaN</td>\n",
       "      <td>False</td>\n",
       "      <td>False</td>\n",
       "      <td>[3619.28223]</td>\n",
       "      <td>NaN</td>\n",
       "      <td>...</td>\n",
       "      <td>False</td>\n",
       "      <td>False</td>\n",
       "      <td>False</td>\n",
       "      <td>True</td>\n",
       "      <td>False</td>\n",
       "      <td>-99</td>\n",
       "      <td>0.60062</td>\n",
       "      <td>aborted</td>\n",
       "      <td>145</td>\n",
       "      <td>0.60062</td>\n",
       "    </tr>\n",
       "    <tr>\n",
       "      <th>597</th>\n",
       "      <td>3619.74882</td>\n",
       "      <td>3622.36770</td>\n",
       "      <td>im024_r</td>\n",
       "      <td>im024_r</td>\n",
       "      <td>False</td>\n",
       "      <td>NaN</td>\n",
       "      <td>False</td>\n",
       "      <td>False</td>\n",
       "      <td>[3621.73408, 3621.83335, 3621.9336, 3622.06724...</td>\n",
       "      <td>NaN</td>\n",
       "      <td>...</td>\n",
       "      <td>False</td>\n",
       "      <td>False</td>\n",
       "      <td>False</td>\n",
       "      <td>True</td>\n",
       "      <td>False</td>\n",
       "      <td>-99</td>\n",
       "      <td>2.61888</td>\n",
       "      <td>aborted</td>\n",
       "      <td>145</td>\n",
       "      <td>2.61888</td>\n",
       "    </tr>\n",
       "    <tr>\n",
       "      <th>598</th>\n",
       "      <td>3622.75138</td>\n",
       "      <td>3623.11829</td>\n",
       "      <td>im024_r</td>\n",
       "      <td>im024_r</td>\n",
       "      <td>False</td>\n",
       "      <td>NaN</td>\n",
       "      <td>False</td>\n",
       "      <td>False</td>\n",
       "      <td>[3622.81796, 3623.23466]</td>\n",
       "      <td>NaN</td>\n",
       "      <td>...</td>\n",
       "      <td>False</td>\n",
       "      <td>False</td>\n",
       "      <td>False</td>\n",
       "      <td>True</td>\n",
       "      <td>False</td>\n",
       "      <td>-99</td>\n",
       "      <td>0.36691</td>\n",
       "      <td>aborted</td>\n",
       "      <td>145</td>\n",
       "      <td>0.36691</td>\n",
       "    </tr>\n",
       "    <tr>\n",
       "      <th>599</th>\n",
       "      <td>3623.50198</td>\n",
       "      <td>3631.50933</td>\n",
       "      <td>im024_r</td>\n",
       "      <td>im024_r</td>\n",
       "      <td>False</td>\n",
       "      <td>3627.25499</td>\n",
       "      <td>False</td>\n",
       "      <td>True</td>\n",
       "      <td>[]</td>\n",
       "      <td>NaN</td>\n",
       "      <td>...</td>\n",
       "      <td>False</td>\n",
       "      <td>False</td>\n",
       "      <td>True</td>\n",
       "      <td>False</td>\n",
       "      <td>False</td>\n",
       "      <td>215999</td>\n",
       "      <td>8.00735</td>\n",
       "      <td>correct_reject</td>\n",
       "      <td>146</td>\n",
       "      <td>8.00735</td>\n",
       "    </tr>\n",
       "  </tbody>\n",
       "</table>\n",
       "<p>600 rows × 23 columns</p>\n",
       "</div>"
      ],
      "text/plain": [
       "           start_time   stop_time initial_image_name change_image_name  \\\n",
       "trials_id                                                                \n",
       "0            25.20983    26.19343            im104_r           im104_r   \n",
       "1            26.71046    28.34528            im104_r           im104_r   \n",
       "2            28.96234    32.73245            im104_r           im104_r   \n",
       "3            33.46618    35.85175            im104_r           im104_r   \n",
       "4            36.46863    39.62138            im104_r           im104_r   \n",
       "...               ...         ...                ...               ...   \n",
       "595        3611.49208  3618.76483            im083_r           im024_r   \n",
       "596        3618.99803  3619.59865            im024_r           im024_r   \n",
       "597        3619.74882  3622.36770            im024_r           im024_r   \n",
       "598        3622.75138  3623.11829            im024_r           im024_r   \n",
       "599        3623.50198  3631.50933            im024_r           im024_r   \n",
       "\n",
       "           is_change  change_time_no_display_delay     go  catch  \\\n",
       "trials_id                                                          \n",
       "0              False                           NaN  False  False   \n",
       "1              False                           NaN  False  False   \n",
       "2              False                           NaN  False  False   \n",
       "3              False                           NaN  False  False   \n",
       "4              False                           NaN  False  False   \n",
       "...              ...                           ...    ...    ...   \n",
       "595             True                    3614.49490   True  False   \n",
       "596            False                           NaN  False  False   \n",
       "597            False                           NaN  False  False   \n",
       "598            False                           NaN  False  False   \n",
       "599            False                    3627.25499  False   True   \n",
       "\n",
       "                                                  lick_times  response_time  \\\n",
       "trials_id                                                                     \n",
       "0                                       [25.72637, 25.87602]            NaN   \n",
       "1                                                 [28.02817]            NaN   \n",
       "2                                                 [32.39844]            NaN   \n",
       "3                                                 [35.53463]            NaN   \n",
       "4                                       [39.15441, 39.28716]            NaN   \n",
       "...                                                      ...            ...   \n",
       "595        [3614.97902, 3615.11108, 3615.22784, 3615.3446...     3614.97902   \n",
       "596                                             [3619.28223]            NaN   \n",
       "597        [3621.73408, 3621.83335, 3621.9336, 3622.06724...            NaN   \n",
       "598                                 [3622.81796, 3623.23466]            NaN   \n",
       "599                                                       []            NaN   \n",
       "\n",
       "           ...  false_alarm   miss  correct_reject  aborted  auto_rewarded  \\\n",
       "trials_id  ...                                                               \n",
       "0          ...        False  False           False     True          False   \n",
       "1          ...        False  False           False     True          False   \n",
       "2          ...        False  False           False     True          False   \n",
       "3          ...        False  False           False     True          False   \n",
       "4          ...        False  False           False     True          False   \n",
       "...        ...          ...    ...             ...      ...            ...   \n",
       "595        ...        False  False           False    False          False   \n",
       "596        ...        False  False           False     True          False   \n",
       "597        ...        False  False           False     True          False   \n",
       "598        ...        False  False           False     True          False   \n",
       "599        ...        False  False            True    False          False   \n",
       "\n",
       "           change_frame  trial_length     performance  aborted_change  \\\n",
       "trials_id                                                               \n",
       "0                   -99       0.98360         aborted               1   \n",
       "1                   -99       1.63482         aborted               1   \n",
       "2                   -99       3.77011         aborted               1   \n",
       "3                   -99       2.38557         aborted               1   \n",
       "4                   -99       3.15275         aborted               1   \n",
       "...                 ...           ...             ...             ...   \n",
       "595              215234       7.27275             hit             144   \n",
       "596                 -99       0.60062         aborted             145   \n",
       "597                 -99       2.61888         aborted             145   \n",
       "598                 -99       0.36691         aborted             145   \n",
       "599              215999       8.00735  correct_reject             146   \n",
       "\n",
       "           duration  \n",
       "trials_id            \n",
       "0           0.98360  \n",
       "1           1.63482  \n",
       "2           3.77011  \n",
       "3           2.38557  \n",
       "4           3.15275  \n",
       "...             ...  \n",
       "595         7.27275  \n",
       "596         0.60062  \n",
       "597         2.61888  \n",
       "598         0.36691  \n",
       "599         8.00735  \n",
       "\n",
       "[600 rows x 23 columns]"
      ]
     },
     "execution_count": 114,
     "metadata": {},
     "output_type": "execute_result"
    }
   ],
   "source": [
    "trials"
   ]
  },
  {
   "cell_type": "code",
   "execution_count": 121,
   "metadata": {},
   "outputs": [],
   "source": [
    "image_change_time = stim_table[stim_table['active'] & stim_table['is_change']]['start_time'].to_numpy()"
   ]
  },
  {
   "cell_type": "code",
   "execution_count": 124,
   "metadata": {},
   "outputs": [
    {
     "data": {
      "image/png": "[encoded data removed]",
      "text/plain": [
       "<Figure size 1000x600 with 1 Axes>"
      ]
     },
     "metadata": {},
     "output_type": "display_data"
    }
   ],
   "source": [
    "# Calculate the inter-change intervals\n",
    "inter_change_intervals = np.diff(image_change_time)\n",
    "\n",
    "plt.figure(figsize=(10, 6))\n",
    "plt.hist(inter_change_intervals, bins=50, edgecolor='black')\n",
    "plt.title('Histogram of Inter-Change Intervals')\n",
    "plt.xlabel('Interval Duration (seconds)')\n",
    "plt.ylabel('Frequency')\n",
    "plt.grid(True, alpha=0.3)\n",
    "plt.show()"
   ]
  },
  {
   "cell_type": "markdown",
   "metadata": {},
   "source": [
    "### Lick bouts generation"
   ]
  },
  {
   "cell_type": "code",
   "execution_count": null,
   "metadata": {},
   "outputs": [],
   "source": []
  }
 ],
 "metadata": {
  "kernelspec": {
   "display_name": "swdb2024",
   "language": "python",
   "name": "python3"
  },
  "language_info": {
   "codemirror_mode": {
    "name": "ipython",
    "version": 3
   },
   "file_extension": ".py",
   "mimetype": "text/x-python",
   "name": "python",
   "nbconvert_exporter": "python",
   "pygments_lexer": "ipython3",
   "version": "3.9.19"
  }
 },
 "nbformat": 4,
 "nbformat_minor": 2
}
