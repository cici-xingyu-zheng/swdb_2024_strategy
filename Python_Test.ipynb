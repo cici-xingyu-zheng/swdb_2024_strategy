{
 "cells": [
  {
   "cell_type": "code",
   "execution_count": 1,
   "metadata": {},
   "outputs": [
    {
     "name": "stdout",
     "output_type": "stream",
     "text": [
      "You're all set!  See you in August!\n"
     ]
    }
   ],
   "source": [
    "import sys\n",
    "from packaging import version\n",
    "\n",
    "X = [89, 111, 117, 39, 114, 101, 32, 97, 108, 108, 32, 115, 101, 116, 33, 32, 32, 83, 101, 101, 32, 121, 111, 117, 32, 105, 110, 32, 65, 117, 103, 117, 115, 116, 33]\n",
    "Y = [73, 116, 32, 108, 111, 111, 107, 115, 32, 108, 105, 107, 101, 32, 121, 111, 117, 114, 32, 101, 110, 118, 105, 114, 111, 110, 109, 101, 110, 116, 32, 105, 115, 110, 39, 116, 32, 115, 101, 116, 32, 117, 112, 32, 99, 111, 114, 114, 101, 99, 116, 108, 121, 46, 10, 73, 102, 32, 121, 111, 117, 39, 114, 101, 32, 115, 101, 101, 105, 110, 103, 32, 116, 104, 105, 115, 32, 109, 101, 115, 115, 97, 103, 101, 44, 32, 121, 111, 117, 32, 112, 114, 111, 98, 97, 98, 108, 121, 32, 104, 97, 118, 101, 32, 97, 110, 32, 111, 108, 100, 101, 114, 32, 118, 101, 114, 115, 105, 111, 110, 32, 111, 102, 32, 80, 121, 116, 104, 111, 110, 32, 105, 110, 115, 116, 97, 108, 108, 101, 100, 32, 111, 114, 32, 99, 111, 110, 102, 105, 103, 117, 114, 101, 100, 46, 10, 10, 80, 108, 101, 97, 115, 101, 32, 105, 110, 115, 116, 97, 108, 108, 32, 116, 104, 101, 32, 108, 97, 116, 101, 115, 116, 32, 65, 110, 97, 99, 111, 110, 100, 97, 32, 102, 111, 114, 32, 80, 121, 116, 104, 111, 110, 32, 51, 58, 32, 32, 104, 116, 116, 112, 115, 58, 47, 47, 119, 119, 119, 46, 97, 110, 97, 99, 111, 110, 100, 97, 46, 99, 111, 109, 47, 100, 105, 115, 116, 114, 105, 98, 117, 116, 105, 111, 110, 47]\n",
    "\n",
    "if version.parse(sys.version.split()[0])>=version.parse('3.7.0'):\n",
    "    print(''.join(map(chr,X)))\n",
    "else:\n",
    "    print(''.join(map(chr,Y)))"
   ]
  },
  {
   "cell_type": "code",
   "execution_count": 1,
   "metadata": {},
   "outputs": [
    {
     "ename": "ModuleNotFoundError",
     "evalue": "No module named 'matplotlib'",
     "output_type": "error",
     "traceback": [
      "\u001b[0;31m---------------------------------------------------------------------------\u001b[0m",
      "\u001b[0;31mModuleNotFoundError\u001b[0m                       Traceback (most recent call last)",
      "Cell \u001b[0;32mIn[1], line 2\u001b[0m\n\u001b[1;32m      1\u001b[0m \u001b[38;5;28;01mimport\u001b[39;00m \u001b[38;5;21;01mnumpy\u001b[39;00m \u001b[38;5;28;01mas\u001b[39;00m \u001b[38;5;21;01mnp\u001b[39;00m\n\u001b[0;32m----> 2\u001b[0m \u001b[38;5;28;01mimport\u001b[39;00m \u001b[38;5;21;01mmatplotlib\u001b[39;00m\u001b[38;5;21;01m.\u001b[39;00m\u001b[38;5;21;01mpyplot\u001b[39;00m \u001b[38;5;28;01mas\u001b[39;00m \u001b[38;5;21;01mplt\u001b[39;00m\n\u001b[1;32m      4\u001b[0m \u001b[38;5;28;01mdef\u001b[39;00m \u001b[38;5;21msigmoid\u001b[39m(t, y_min, y_max, a, b):\n\u001b[1;32m      5\u001b[0m     \u001b[38;5;28;01mreturn\u001b[39;00m y_min \u001b[38;5;241m+\u001b[39m (y_max \u001b[38;5;241m-\u001b[39m y_min) \u001b[38;5;241m/\u001b[39m (\u001b[38;5;241m1\u001b[39m \u001b[38;5;241m+\u001b[39m (t\u001b[38;5;241m/\u001b[39ma)\u001b[38;5;241m*\u001b[39m\u001b[38;5;241m*\u001b[39mb)\n",
      "\u001b[0;31mModuleNotFoundError\u001b[0m: No module named 'matplotlib'"
     ]
    }
   ],
   "source": [
    "import numpy as np\n",
    "import matplotlib.pyplot as plt\n",
    "\n",
    "def sigmoid(t, y_min, y_max, a, b):\n",
    "    return y_min + (y_max - y_min) / (1 + (t/a)**b)\n",
    "\n",
    "# Parameters from the paper\n",
    "y_min = 0\n",
    "y_max = 1\n",
    "a = 4\n",
    "b = -5\n",
    "\n",
    "# Generate t values\n",
    "t = np.linspace(0, 10, 1000)\n",
    "\n",
    "# Calculate y values\n",
    "y = sigmoid(t, y_min, y_max, a, b)\n",
    "\n",
    "# Create the plot\n",
    "plt.figure(figsize=(10, 6))\n",
    "plt.plot(t, y)\n",
    "plt.title('Timing Strategy Sigmoid Function')\n",
    "plt.xlabel('Number of images since last licking bout')\n",
    "plt.ylabel('Licking probability')\n",
    "plt.axhline(y=0.5, color='r', linestyle='--')\n",
    "plt.axvline(x=4, color='r', linestyle='--')\n",
    "plt.text(4.1, 0.52, 'Midpoint (a=4)', verticalalignment='bottom')\n",
    "plt.grid(True)\n",
    "plt.show()"
   ]
  },
  {
   "cell_type": "code",
   "execution_count": null,
   "metadata": {},
   "outputs": [],
   "source": []
  }
 ],
 "metadata": {
  "kernelspec": {
   "display_name": "Python 3 (ipykernel)",
   "language": "python",
   "name": "python3"
  },
  "language_info": {
   "codemirror_mode": {
    "name": "ipython",
    "version": 3
   },
   "file_extension": ".py",
   "mimetype": "text/x-python",
   "name": "python",
   "nbconvert_exporter": "python",
   "pygments_lexer": "ipython3",
   "version": "3.9.19"
  }
 },
 "nbformat": 4,
 "nbformat_minor": 4
}
