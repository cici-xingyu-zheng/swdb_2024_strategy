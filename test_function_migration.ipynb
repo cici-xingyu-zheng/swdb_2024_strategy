{
 "cells": [
  {
   "cell_type": "code",
   "execution_count": 40,
   "metadata": {},
   "outputs": [],
   "source": [
    "import numpy as np\n",
    "import matplotlib.pyplot as plt\n",
    "import pandas as pd\n",
    "from matplotlib.patches import Patch\n",
    "import seaborn as sns\n",
    "from allensdk.brain_observatory.behavior.behavior_project_cache import VisualBehaviorNeuropixelsProjectCache\n",
    "\n",
    "sns.set_style('ticks')"
   ]
  },
  {
   "cell_type": "code",
   "execution_count": 41,
   "metadata": {},
   "outputs": [
    {
     "name": "stderr",
     "output_type": "stream",
     "text": [
      "/opt/anaconda3/envs/swdb2024/lib/python3.9/site-packages/hdmf/utils.py:668: UserWarning: Ignoring cached namespace 'core' version 2.6.0-alpha because version 2.7.0 is already loaded.\n",
      "  return func(args[0], **pargs)\n"
     ]
    }
   ],
   "source": [
    "drive_dir = \"/Volumes/Brain2024\"\n",
    "cache = VisualBehaviorNeuropixelsProjectCache.from_local_cache(cache_dir=drive_dir, use_static_cache=True)\n",
    "behavior_session_id = 1053960987\n",
    "behavior_session = cache.get_behavior_session(behavior_session_id)"
   ]
  },
  {
   "cell_type": "code",
   "execution_count": 42,
   "metadata": {},
   "outputs": [
    {
     "data": {
      "text/html": [
       "<div>\n",
       "<style scoped>\n",
       "    .dataframe tbody tr th:only-of-type {\n",
       "        vertical-align: middle;\n",
       "    }\n",
       "\n",
       "    .dataframe tbody tr th {\n",
       "        vertical-align: top;\n",
       "    }\n",
       "\n",
       "    .dataframe thead th {\n",
       "        text-align: right;\n",
       "    }\n",
       "</style>\n",
       "<table border=\"1\" class=\"dataframe\">\n",
       "  <thead>\n",
       "    <tr style=\"text-align: right;\">\n",
       "      <th></th>\n",
       "      <th>volume</th>\n",
       "      <th>timestamps</th>\n",
       "      <th>auto_rewarded</th>\n",
       "    </tr>\n",
       "  </thead>\n",
       "  <tbody>\n",
       "    <tr>\n",
       "      <th>0</th>\n",
       "      <td>0.005</td>\n",
       "      <td>44.87655</td>\n",
       "      <td>True</td>\n",
       "    </tr>\n",
       "    <tr>\n",
       "      <th>1</th>\n",
       "      <td>0.005</td>\n",
       "      <td>64.39291</td>\n",
       "      <td>True</td>\n",
       "    </tr>\n",
       "    <tr>\n",
       "      <th>2</th>\n",
       "      <td>0.005</td>\n",
       "      <td>80.90632</td>\n",
       "      <td>True</td>\n",
       "    </tr>\n",
       "    <tr>\n",
       "      <th>3</th>\n",
       "      <td>0.003</td>\n",
       "      <td>119.55534</td>\n",
       "      <td>False</td>\n",
       "    </tr>\n",
       "    <tr>\n",
       "      <th>4</th>\n",
       "      <td>0.003</td>\n",
       "      <td>130.28088</td>\n",
       "      <td>False</td>\n",
       "    </tr>\n",
       "    <tr>\n",
       "      <th>...</th>\n",
       "      <td>...</td>\n",
       "      <td>...</td>\n",
       "      <td>...</td>\n",
       "    </tr>\n",
       "    <tr>\n",
       "      <th>137</th>\n",
       "      <td>0.003</td>\n",
       "      <td>3522.61835</td>\n",
       "      <td>False</td>\n",
       "    </tr>\n",
       "    <tr>\n",
       "      <th>138</th>\n",
       "      <td>0.003</td>\n",
       "      <td>3534.59474</td>\n",
       "      <td>False</td>\n",
       "    </tr>\n",
       "    <tr>\n",
       "      <th>139</th>\n",
       "      <td>0.003</td>\n",
       "      <td>3566.17148</td>\n",
       "      <td>False</td>\n",
       "    </tr>\n",
       "    <tr>\n",
       "      <th>140</th>\n",
       "      <td>0.003</td>\n",
       "      <td>3591.60942</td>\n",
       "      <td>False</td>\n",
       "    </tr>\n",
       "    <tr>\n",
       "      <th>141</th>\n",
       "      <td>0.003</td>\n",
       "      <td>3614.97902</td>\n",
       "      <td>False</td>\n",
       "    </tr>\n",
       "  </tbody>\n",
       "</table>\n",
       "<p>142 rows × 3 columns</p>\n",
       "</div>"
      ],
      "text/plain": [
       "     volume  timestamps  auto_rewarded\n",
       "0     0.005    44.87655           True\n",
       "1     0.005    64.39291           True\n",
       "2     0.005    80.90632           True\n",
       "3     0.003   119.55534          False\n",
       "4     0.003   130.28088          False\n",
       "..      ...         ...            ...\n",
       "137   0.003  3522.61835          False\n",
       "138   0.003  3534.59474          False\n",
       "139   0.003  3566.17148          False\n",
       "140   0.003  3591.60942          False\n",
       "141   0.003  3614.97902          False\n",
       "\n",
       "[142 rows x 3 columns]"
      ]
     },
     "execution_count": 42,
     "metadata": {},
     "output_type": "execute_result"
    }
   ],
   "source": [
    "behavior_session.rewards"
   ]
  },
  {
   "cell_type": "code",
   "execution_count": 43,
   "metadata": {},
   "outputs": [],
   "source": [
    "licks = behavior_session.licks"
   ]
  },
  {
   "cell_type": "code",
   "execution_count": 44,
   "metadata": {},
   "outputs": [],
   "source": [
    "import src_local.get_metrics as get_metrics"
   ]
  },
  {
   "cell_type": "code",
   "execution_count": 45,
   "metadata": {},
   "outputs": [],
   "source": [
    "licks_annot = get_metrics.annotate_licks(licks, behavior_session)"
   ]
  },
  {
   "cell_type": "code",
   "execution_count": 7,
   "metadata": {},
   "outputs": [
    {
     "data": {
      "text/html": [
       "<div>\n",
       "<style scoped>\n",
       "    .dataframe tbody tr th:only-of-type {\n",
       "        vertical-align: middle;\n",
       "    }\n",
       "\n",
       "    .dataframe tbody tr th {\n",
       "        vertical-align: top;\n",
       "    }\n",
       "\n",
       "    .dataframe thead th {\n",
       "        text-align: right;\n",
       "    }\n",
       "</style>\n",
       "<table border=\"1\" class=\"dataframe\">\n",
       "  <thead>\n",
       "    <tr style=\"text-align: right;\">\n",
       "      <th></th>\n",
       "      <th>timestamps</th>\n",
       "      <th>frame</th>\n",
       "      <th>pre_ili</th>\n",
       "      <th>post_ili</th>\n",
       "      <th>bout_start</th>\n",
       "      <th>bout_end</th>\n",
       "      <th>bout_number</th>\n",
       "      <th>rewarded</th>\n",
       "      <th>num_rewards</th>\n",
       "      <th>bout_rewarded</th>\n",
       "      <th>bout_num_rewards</th>\n",
       "    </tr>\n",
       "  </thead>\n",
       "  <tbody>\n",
       "    <tr>\n",
       "      <th>7</th>\n",
       "      <td>45.53275</td>\n",
       "      <td>1279</td>\n",
       "      <td>6.26005</td>\n",
       "      <td>0.13111</td>\n",
       "      <td>True</td>\n",
       "      <td>False</td>\n",
       "      <td>6</td>\n",
       "      <td>True</td>\n",
       "      <td>1</td>\n",
       "      <td>True</td>\n",
       "      <td>1</td>\n",
       "    </tr>\n",
       "    <tr>\n",
       "      <th>8</th>\n",
       "      <td>45.66386</td>\n",
       "      <td>1287</td>\n",
       "      <td>0.13111</td>\n",
       "      <td>0.17113</td>\n",
       "      <td>False</td>\n",
       "      <td>False</td>\n",
       "      <td>6</td>\n",
       "      <td>False</td>\n",
       "      <td>0</td>\n",
       "      <td>True</td>\n",
       "      <td>1</td>\n",
       "    </tr>\n",
       "    <tr>\n",
       "      <th>9</th>\n",
       "      <td>45.83499</td>\n",
       "      <td>1297</td>\n",
       "      <td>0.17113</td>\n",
       "      <td>0.11008</td>\n",
       "      <td>False</td>\n",
       "      <td>False</td>\n",
       "      <td>6</td>\n",
       "      <td>False</td>\n",
       "      <td>0</td>\n",
       "      <td>True</td>\n",
       "      <td>1</td>\n",
       "    </tr>\n",
       "    <tr>\n",
       "      <th>10</th>\n",
       "      <td>45.94507</td>\n",
       "      <td>1304</td>\n",
       "      <td>0.11008</td>\n",
       "      <td>0.17815</td>\n",
       "      <td>False</td>\n",
       "      <td>False</td>\n",
       "      <td>6</td>\n",
       "      <td>False</td>\n",
       "      <td>0</td>\n",
       "      <td>True</td>\n",
       "      <td>1</td>\n",
       "    </tr>\n",
       "    <tr>\n",
       "      <th>11</th>\n",
       "      <td>46.12322</td>\n",
       "      <td>1314</td>\n",
       "      <td>0.17815</td>\n",
       "      <td>0.15011</td>\n",
       "      <td>False</td>\n",
       "      <td>False</td>\n",
       "      <td>6</td>\n",
       "      <td>False</td>\n",
       "      <td>0</td>\n",
       "      <td>True</td>\n",
       "      <td>1</td>\n",
       "    </tr>\n",
       "  </tbody>\n",
       "</table>\n",
       "</div>"
      ],
      "text/plain": [
       "    timestamps  frame  pre_ili  post_ili  bout_start  bout_end  bout_number  \\\n",
       "7     45.53275   1279  6.26005   0.13111        True     False            6   \n",
       "8     45.66386   1287  0.13111   0.17113       False     False            6   \n",
       "9     45.83499   1297  0.17113   0.11008       False     False            6   \n",
       "10    45.94507   1304  0.11008   0.17815       False     False            6   \n",
       "11    46.12322   1314  0.17815   0.15011       False     False            6   \n",
       "\n",
       "    rewarded  num_rewards bout_rewarded  bout_num_rewards  \n",
       "7       True            1          True                 1  \n",
       "8      False            0          True                 1  \n",
       "9      False            0          True                 1  \n",
       "10     False            0          True                 1  \n",
       "11     False            0          True                 1  "
      ]
     },
     "execution_count": 7,
     "metadata": {},
     "output_type": "execute_result"
    }
   ],
   "source": [
    "licks_annot[licks_annot['bout_rewarded']].head()"
   ]
  },
  {
   "cell_type": "code",
   "execution_count": 46,
   "metadata": {},
   "outputs": [],
   "source": [
    "stimulus_presentations = behavior_session.stimulus_presentations\n",
    "stimulus_presentations = stimulus_presentations[stimulus_presentations['active']]\n",
    "stim_table = get_metrics.annotate_bouts(licks_annot, stimulus_presentations)"
   ]
  },
  {
   "cell_type": "code",
   "execution_count": 47,
   "metadata": {},
   "outputs": [
    {
     "data": {
      "text/plain": [
       "Index(['stimulus_block', 'image_name', 'duration', 'start_time', 'end_time',\n",
       "       'start_frame', 'end_frame', 'is_change', 'is_image_novel', 'omitted',\n",
       "       'flashes_since_change', 'trials_id', 'active', 'spatial_frequency',\n",
       "       'rewarded', 'position_y', 'stimulus_name', 'stimulus_index',\n",
       "       'orientation', 'temporal_frequency', 'position_x', 'color',\n",
       "       'is_sham_change', 'contrast', 'bout_start', 'num_bout_start',\n",
       "       'bout_number', 'bout_end', 'num_bout_end', 'in_lick_bout', 'licked'],\n",
       "      dtype='object')"
      ]
     },
     "execution_count": 47,
     "metadata": {},
     "output_type": "execute_result"
    }
   ],
   "source": [
    "stim_table.columns"
   ]
  },
  {
   "cell_type": "code",
   "execution_count": 50,
   "metadata": {},
   "outputs": [],
   "source": [
    "stim_table['hits']   =  \\\n",
    "    stim_table['licked'] & \\\n",
    "    stim_table['is_change']\n",
    "stim_table['misses'] = \\\n",
    "    ~stim_table['licked'] & \\\n",
    "    stim_table['is_change']\n",
    "stim_table['aborts'] =  \\\n",
    "    stim_table['licked'] & \\\n",
    "    ~stim_table['is_change']"
   ]
  },
  {
   "cell_type": "code",
   "execution_count": 51,
   "metadata": {},
   "outputs": [],
   "source": [
    "columns = ['start_time','hits','misses',\n",
    "    'aborts','is_change','omitted','licked','bout_start',\n",
    "    'bout_end','num_bout_start','num_bout_end','in_lick_bout']\n",
    "df = pd.DataFrame(data = stim_table[columns])\n",
    "df = df.rename(columns={'is_change':'change'})"
   ]
  },
  {
   "cell_type": "code",
   "execution_count": 52,
   "metadata": {},
   "outputs": [],
   "source": [
    "import psytrack as psy"
   ]
  },
  {
   "cell_type": "code",
   "execution_count": 53,
   "metadata": {},
   "outputs": [
    {
     "name": "stdout",
     "output_type": "stream",
     "text": [
      "Help on function hyperOpt in module psytrack.hyperOpt:\n",
      "\n",
      "hyperOpt(dat, hyper, weights, optList, method=None, showOpt=0, jump=2, hess_calc='weights')\n",
      "    Optimizes for hyperparameters and weights.\n",
      "    \n",
      "    Given data and set of hyperparameters, uses decoupled Laplace to find the\n",
      "    optimal hyperparameter values (i.e. the sigmas that maximize evidence).\n",
      "    \n",
      "    Args:\n",
      "        dat : dict, all data from a specific subject\n",
      "        hyper : dict, hyperparameters and initial values used to construct prior\n",
      "            Must at least include sigma, can also include sigInit, sigDay\n",
      "        weights : dict, name and count of which weights in dat['inputs'] to fit\n",
      "            Note that since dicts have no ordering, the weights returned as an\n",
      "            array in `best_wMode` will be ordered alphabetically.\n",
      "        optList : list, hyperparameters in 'hyper' to be optimized\n",
      "        method : str, control over type of fit,\n",
      "            None is standard, '_days' and '_constant' also supported\n",
      "        showOpt : int, 0 : no text, 1 : verbose,\n",
      "            2+ : Hess + deriv check, done showOpt-1 times\n",
      "        jump : int, how many times the alg can find suboptimal evd before quit\n",
      "        hess_calc : str, what hessian calculations to perform. If None, then\n",
      "            the hessian of the weights is returned (standard error on weights\n",
      "            can be calculated post-hoc). If 'weights', the the standard error\n",
      "            of the weights is calculated internally and returned instead of the\n",
      "            hessian. If 'hyper', then standard errors of the hyperparameters is \n",
      "            computed with the numerical hessian and returned. If 'All', then\n",
      "            a dict with standard errors for both the weights and the\n",
      "            hyperparameters is returned.\n",
      "    \n",
      "    Returns:\n",
      "        best_hyper : hyperparameter values that maximizes evidence of data\n",
      "        best_logEvd : log-evidence associated with optimal hyperparameter values\n",
      "        best_wMode : the MAP weights found using best_hyper, maximizing logEvd\n",
      "            Note that since the dict have no ordering, the weights in\n",
      "            `best_wMode` will be ordered alphabetically from `weights`.\n",
      "        hess_info : dict, Hessian info, specific info depending on `hess_calc`\n",
      "\n"
     ]
    }
   ],
   "source": [
    "help(psy.hyperOpt)"
   ]
  },
  {
   "cell_type": "code",
   "execution_count": 56,
   "metadata": {},
   "outputs": [],
   "source": [
    "import src.psy_tools as ps"
   ]
  },
  {
   "cell_type": "code",
   "execution_count": 57,
   "metadata": {},
   "outputs": [],
   "source": [
    "format_options = {'timing0/1':True, \n",
    "                  'mean_center':True, \n",
    "                  'timing_params': [4,-5],\n",
    "                  'ignore_trial_errors': False,\n",
    "                  'num_cv_folds': 10}"
   ]
  },
  {
   "cell_type": "code",
   "execution_count": 58,
   "metadata": {},
   "outputs": [],
   "source": [
    "# Define columns of interest from the stimulus_presentations DataFrame\n",
    "columns = ['start_time','hits','misses',\n",
    "    'aborts','is_change','omitted','licked','bout_start',\n",
    "    'bout_end','num_bout_start','num_bout_end','in_lick_bout']\n",
    "\n",
    "# Create a new DataFrame with only the selected columns\n",
    "df = pd.DataFrame(data = stim_table[columns])\n",
    "\n",
    "# Rename the 'is_change' column to 'change' for clarity\n",
    "df = df.rename(columns={'is_change':'change'})\n",
    "\n",
    "# Process behavior annotations\n",
    "\n",
    "# Create 'y' column: 2 if bout_start, 1 otherwise (target variable for prediction)\n",
    "df['y'] = np.array([2 if x else 1 for x in \n",
    "    stim_table.bout_start.values]) # predict bout start\n",
    "\n",
    "# Calculate the **number** of images since the last lick\n",
    "df['images_since_last_lick'] = stim_table.groupby(\\\n",
    "    stim_table['bout_end'].cumsum()).cumcount(ascending=True)\n",
    "\n",
    "# Create 'timing_input': shift 'images_since_last_lick' by 1 and add 1 to each value\n",
    "df['timing_input'] = [x+1 for x in df['images_since_last_lick'].shift(fill_value=0)]\n",
    "\n",
    "\n",
    "# Build Strategy regressors\n",
    "\n",
    "# Create various encodings for the 'change' variable\n",
    "df['task0']      = np.array([1 if x else 0 for x in df['change']]) \n",
    "# Create encodings for omissions\n",
    "df['omissions']  = np.array([1 if x else 0 for x in df['omitted']]) # omission\n",
    "df['omissions1'] = np.array([x for x in np.concatenate([[0], # shift omission \n",
    "                    df['omissions'].values[0:-1]])]) \n",
    "\n",
    "# Build timing strategy using average timing parameters\n",
    "df['timing1D']          = np.array(\\\n",
    "    [ps.timing_sigmoid(x,format_options['timing_params']) \n",
    "    for x in df['timing_input']])\n",
    "\n",
    "# Add a bias term (constant feature)\n",
    "df['bias'] = 1"
   ]
  },
  {
   "cell_type": "code",
   "execution_count": 62,
   "metadata": {},
   "outputs": [],
   "source": [
    "# Create 'included' column: True if not in a lick bout\n",
    "df['included'] = ~df['in_lick_bout']"
   ]
  },
  {
   "cell_type": "code",
   "execution_count": 64,
   "metadata": {},
   "outputs": [
    {
     "data": {
      "text/plain": [
       "(4804, 21)"
      ]
     },
     "execution_count": 64,
     "metadata": {},
     "output_type": "execute_result"
    }
   ],
   "source": [
    "df.shape"
   ]
  },
  {
   "cell_type": "code",
   "execution_count": 59,
   "metadata": {},
   "outputs": [],
   "source": [
    "import copy "
   ]
  },
  {
   "cell_type": "code",
   "execution_count": 65,
   "metadata": {},
   "outputs": [
    {
     "name": "stderr",
     "output_type": "stream",
     "text": [
      "/var/folders/45/vxs3qxtn0ql1mmj2dm1w3zxw0000gp/T/ipykernel_63321/350689509.py:4: SettingWithCopyWarning: \n",
      "A value is trying to be set on a copy of a slice from a DataFrame.\n",
      "Try using .loc[row_indexer,col_indexer] = value instead\n",
      "\n",
      "See the caveats in the documentation: https://pandas.pydata.org/pandas-docs/stable/user_guide/indexing.html#returning-a-view-versus-a-copy\n",
      "  df['missing_trials'] = np.concatenate([np.diff(df.index)-1,[0]])\n"
     ]
    }
   ],
   "source": [
    "# Make a copy before trimming data\n",
    "full_df = copy.copy(df) \n",
    "# Segment out consumption trials\n",
    "df = df[df['included']] # this excusion is becaouse the 'in_lick_bout' state has only to do with consumption\n",
    "# Numer of trails that we leave out:\n",
    "df['missing_trials'] = np.concatenate([np.diff(df.index)-1,[0]])\n"
   ]
  },
  {
   "cell_type": "code",
   "execution_count": null,
   "metadata": {},
   "outputs": [],
   "source": []
  }
 ],
 "metadata": {
  "kernelspec": {
   "display_name": "swdb2024",
   "language": "python",
   "name": "python3"
  },
  "language_info": {
   "codemirror_mode": {
    "name": "ipython",
    "version": 3
   },
   "file_extension": ".py",
   "mimetype": "text/x-python",
   "name": "python",
   "nbconvert_exporter": "python",
   "pygments_lexer": "ipython3",
   "version": "3.9.19"
  }
 },
 "nbformat": 4,
 "nbformat_minor": 2
}
