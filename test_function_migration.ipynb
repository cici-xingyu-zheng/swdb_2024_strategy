{
 "cells": [
  {
   "cell_type": "code",
   "execution_count": 1,
   "metadata": {},
   "outputs": [],
   "source": [
    "import numpy as np\n",
    "import matplotlib.pyplot as plt\n",
    "import pandas as pd\n",
    "from matplotlib.patches import Patch\n",
    "import seaborn as sns\n",
    "from allensdk.brain_observatory.behavior.behavior_project_cache import VisualBehaviorNeuropixelsProjectCache\n",
    "\n",
    "sns.set_style('ticks')"
   ]
  },
  {
   "cell_type": "code",
   "execution_count": 2,
   "metadata": {},
   "outputs": [
    {
     "name": "stderr",
     "output_type": "stream",
     "text": [
      "/opt/anaconda3/envs/swdb2024/lib/python3.9/site-packages/hdmf/utils.py:668: UserWarning: Ignoring cached namespace 'core' version 2.6.0-alpha because version 2.7.0 is already loaded.\n",
      "  return func(args[0], **pargs)\n"
     ]
    }
   ],
   "source": [
    "drive_dir = \"/Volumes/Brain2024\"\n",
    "cache = VisualBehaviorNeuropixelsProjectCache.from_local_cache(cache_dir=drive_dir, use_static_cache=True)\n",
    "behavior_session_id = 1053960987\n",
    "behavior_session = cache.get_behavior_session(behavior_session_id)"
   ]
  },
  {
   "cell_type": "code",
   "execution_count": 3,
   "metadata": {},
   "outputs": [
    {
     "data": {
      "text/html": [
       "<div>\n",
       "<style scoped>\n",
       "    .dataframe tbody tr th:only-of-type {\n",
       "        vertical-align: middle;\n",
       "    }\n",
       "\n",
       "    .dataframe tbody tr th {\n",
       "        vertical-align: top;\n",
       "    }\n",
       "\n",
       "    .dataframe thead th {\n",
       "        text-align: right;\n",
       "    }\n",
       "</style>\n",
       "<table border=\"1\" class=\"dataframe\">\n",
       "  <thead>\n",
       "    <tr style=\"text-align: right;\">\n",
       "      <th></th>\n",
       "      <th>volume</th>\n",
       "      <th>timestamps</th>\n",
       "      <th>auto_rewarded</th>\n",
       "    </tr>\n",
       "  </thead>\n",
       "  <tbody>\n",
       "    <tr>\n",
       "      <th>0</th>\n",
       "      <td>0.005</td>\n",
       "      <td>44.87655</td>\n",
       "      <td>True</td>\n",
       "    </tr>\n",
       "    <tr>\n",
       "      <th>1</th>\n",
       "      <td>0.005</td>\n",
       "      <td>64.39291</td>\n",
       "      <td>True</td>\n",
       "    </tr>\n",
       "    <tr>\n",
       "      <th>2</th>\n",
       "      <td>0.005</td>\n",
       "      <td>80.90632</td>\n",
       "      <td>True</td>\n",
       "    </tr>\n",
       "    <tr>\n",
       "      <th>3</th>\n",
       "      <td>0.003</td>\n",
       "      <td>119.55534</td>\n",
       "      <td>False</td>\n",
       "    </tr>\n",
       "    <tr>\n",
       "      <th>4</th>\n",
       "      <td>0.003</td>\n",
       "      <td>130.28088</td>\n",
       "      <td>False</td>\n",
       "    </tr>\n",
       "    <tr>\n",
       "      <th>...</th>\n",
       "      <td>...</td>\n",
       "      <td>...</td>\n",
       "      <td>...</td>\n",
       "    </tr>\n",
       "    <tr>\n",
       "      <th>137</th>\n",
       "      <td>0.003</td>\n",
       "      <td>3522.61835</td>\n",
       "      <td>False</td>\n",
       "    </tr>\n",
       "    <tr>\n",
       "      <th>138</th>\n",
       "      <td>0.003</td>\n",
       "      <td>3534.59474</td>\n",
       "      <td>False</td>\n",
       "    </tr>\n",
       "    <tr>\n",
       "      <th>139</th>\n",
       "      <td>0.003</td>\n",
       "      <td>3566.17148</td>\n",
       "      <td>False</td>\n",
       "    </tr>\n",
       "    <tr>\n",
       "      <th>140</th>\n",
       "      <td>0.003</td>\n",
       "      <td>3591.60942</td>\n",
       "      <td>False</td>\n",
       "    </tr>\n",
       "    <tr>\n",
       "      <th>141</th>\n",
       "      <td>0.003</td>\n",
       "      <td>3614.97902</td>\n",
       "      <td>False</td>\n",
       "    </tr>\n",
       "  </tbody>\n",
       "</table>\n",
       "<p>142 rows × 3 columns</p>\n",
       "</div>"
      ],
      "text/plain": [
       "     volume  timestamps  auto_rewarded\n",
       "0     0.005    44.87655           True\n",
       "1     0.005    64.39291           True\n",
       "2     0.005    80.90632           True\n",
       "3     0.003   119.55534          False\n",
       "4     0.003   130.28088          False\n",
       "..      ...         ...            ...\n",
       "137   0.003  3522.61835          False\n",
       "138   0.003  3534.59474          False\n",
       "139   0.003  3566.17148          False\n",
       "140   0.003  3591.60942          False\n",
       "141   0.003  3614.97902          False\n",
       "\n",
       "[142 rows x 3 columns]"
      ]
     },
     "execution_count": 3,
     "metadata": {},
     "output_type": "execute_result"
    }
   ],
   "source": [
    "behavior_session.rewards"
   ]
  },
  {
   "cell_type": "code",
   "execution_count": 4,
   "metadata": {},
   "outputs": [],
   "source": [
    "licks = behavior_session.licks"
   ]
  },
  {
   "cell_type": "code",
   "execution_count": 5,
   "metadata": {},
   "outputs": [],
   "source": [
    "import src_local.get_metrics as get_metrics"
   ]
  },
  {
   "cell_type": "code",
   "execution_count": 6,
   "metadata": {},
   "outputs": [],
   "source": [
    "licks_annot = get_metrics.annotate_licks(licks, behavior_session)"
   ]
  },
  {
   "cell_type": "code",
   "execution_count": 7,
   "metadata": {},
   "outputs": [
    {
     "data": {
      "text/html": [
       "<div>\n",
       "<style scoped>\n",
       "    .dataframe tbody tr th:only-of-type {\n",
       "        vertical-align: middle;\n",
       "    }\n",
       "\n",
       "    .dataframe tbody tr th {\n",
       "        vertical-align: top;\n",
       "    }\n",
       "\n",
       "    .dataframe thead th {\n",
       "        text-align: right;\n",
       "    }\n",
       "</style>\n",
       "<table border=\"1\" class=\"dataframe\">\n",
       "  <thead>\n",
       "    <tr style=\"text-align: right;\">\n",
       "      <th></th>\n",
       "      <th>timestamps</th>\n",
       "      <th>frame</th>\n",
       "      <th>pre_ili</th>\n",
       "      <th>post_ili</th>\n",
       "      <th>bout_start</th>\n",
       "      <th>bout_end</th>\n",
       "      <th>bout_number</th>\n",
       "      <th>rewarded</th>\n",
       "      <th>num_rewards</th>\n",
       "      <th>bout_rewarded</th>\n",
       "      <th>bout_num_rewards</th>\n",
       "    </tr>\n",
       "  </thead>\n",
       "  <tbody>\n",
       "    <tr>\n",
       "      <th>7</th>\n",
       "      <td>45.53275</td>\n",
       "      <td>1279</td>\n",
       "      <td>6.26005</td>\n",
       "      <td>0.13111</td>\n",
       "      <td>True</td>\n",
       "      <td>False</td>\n",
       "      <td>6</td>\n",
       "      <td>True</td>\n",
       "      <td>1</td>\n",
       "      <td>True</td>\n",
       "      <td>1</td>\n",
       "    </tr>\n",
       "    <tr>\n",
       "      <th>8</th>\n",
       "      <td>45.66386</td>\n",
       "      <td>1287</td>\n",
       "      <td>0.13111</td>\n",
       "      <td>0.17113</td>\n",
       "      <td>False</td>\n",
       "      <td>False</td>\n",
       "      <td>6</td>\n",
       "      <td>False</td>\n",
       "      <td>0</td>\n",
       "      <td>True</td>\n",
       "      <td>1</td>\n",
       "    </tr>\n",
       "    <tr>\n",
       "      <th>9</th>\n",
       "      <td>45.83499</td>\n",
       "      <td>1297</td>\n",
       "      <td>0.17113</td>\n",
       "      <td>0.11008</td>\n",
       "      <td>False</td>\n",
       "      <td>False</td>\n",
       "      <td>6</td>\n",
       "      <td>False</td>\n",
       "      <td>0</td>\n",
       "      <td>True</td>\n",
       "      <td>1</td>\n",
       "    </tr>\n",
       "    <tr>\n",
       "      <th>10</th>\n",
       "      <td>45.94507</td>\n",
       "      <td>1304</td>\n",
       "      <td>0.11008</td>\n",
       "      <td>0.17815</td>\n",
       "      <td>False</td>\n",
       "      <td>False</td>\n",
       "      <td>6</td>\n",
       "      <td>False</td>\n",
       "      <td>0</td>\n",
       "      <td>True</td>\n",
       "      <td>1</td>\n",
       "    </tr>\n",
       "    <tr>\n",
       "      <th>11</th>\n",
       "      <td>46.12322</td>\n",
       "      <td>1314</td>\n",
       "      <td>0.17815</td>\n",
       "      <td>0.15011</td>\n",
       "      <td>False</td>\n",
       "      <td>False</td>\n",
       "      <td>6</td>\n",
       "      <td>False</td>\n",
       "      <td>0</td>\n",
       "      <td>True</td>\n",
       "      <td>1</td>\n",
       "    </tr>\n",
       "  </tbody>\n",
       "</table>\n",
       "</div>"
      ],
      "text/plain": [
       "    timestamps  frame  pre_ili  post_ili  bout_start  bout_end  bout_number  \\\n",
       "7     45.53275   1279  6.26005   0.13111        True     False            6   \n",
       "8     45.66386   1287  0.13111   0.17113       False     False            6   \n",
       "9     45.83499   1297  0.17113   0.11008       False     False            6   \n",
       "10    45.94507   1304  0.11008   0.17815       False     False            6   \n",
       "11    46.12322   1314  0.17815   0.15011       False     False            6   \n",
       "\n",
       "    rewarded  num_rewards bout_rewarded  bout_num_rewards  \n",
       "7       True            1          True                 1  \n",
       "8      False            0          True                 1  \n",
       "9      False            0          True                 1  \n",
       "10     False            0          True                 1  \n",
       "11     False            0          True                 1  "
      ]
     },
     "execution_count": 7,
     "metadata": {},
     "output_type": "execute_result"
    }
   ],
   "source": [
    "licks_annot[licks_annot['bout_rewarded']].head()"
   ]
  },
  {
   "cell_type": "code",
   "execution_count": 8,
   "metadata": {},
   "outputs": [],
   "source": [
    "stimulus_presentations = behavior_session.stimulus_presentations\n",
    "stim_table = get_metrics.annotate_bouts(licks_annot, stimulus_presentations)"
   ]
  },
  {
   "cell_type": "code",
   "execution_count": 9,
   "metadata": {},
   "outputs": [
    {
     "data": {
      "text/plain": [
       "Index(['stimulus_block', 'image_name', 'duration', 'start_time', 'end_time',\n",
       "       'start_frame', 'end_frame', 'is_change', 'is_image_novel', 'omitted',\n",
       "       'flashes_since_change', 'trials_id', 'active', 'spatial_frequency',\n",
       "       'rewarded', 'position_y', 'stimulus_name', 'stimulus_index',\n",
       "       'orientation', 'temporal_frequency', 'position_x', 'color',\n",
       "       'is_sham_change', 'contrast', 'bout_start', 'num_bout_start',\n",
       "       'bout_number', 'bout_end', 'num_bout_end', 'in_lick_bout', 'licked'],\n",
       "      dtype='object')"
      ]
     },
     "execution_count": 9,
     "metadata": {},
     "output_type": "execute_result"
    }
   ],
   "source": [
    "stim_table.columns"
   ]
  },
  {
   "cell_type": "code",
   "execution_count": 10,
   "metadata": {},
   "outputs": [],
   "source": [
    "stim_table['hits']   =  \\\n",
    "    stim_table['licked'] & \\\n",
    "    stim_table['is_change']\n",
    "stim_table['misses'] = \\\n",
    "    ~stim_table['licked'] & \\\n",
    "    stim_table['is_change']\n",
    "stim_table['aborts'] =  \\\n",
    "    stim_table['licked'] & \\\n",
    "    ~stim_table['is_change']"
   ]
  },
  {
   "cell_type": "code",
   "execution_count": null,
   "metadata": {},
   "outputs": [],
   "source": [
    "columns = ['start_time','hits','misses',\n",
    "    'aborts','is_change','omitted','licked','bout_start',\n",
    "    'bout_end','num_bout_start','num_bout_end','in_lick_bout']\n",
    "df = pd.DataFrame(data = stimulus_presentations[columns])\n",
    "df = df.rename(columns={'is_change':'change'})\n",
    "\n"
   ]
  }
 ],
 "metadata": {
  "kernelspec": {
   "display_name": "swdb2024",
   "language": "python",
   "name": "python3"
  },
  "language_info": {
   "codemirror_mode": {
    "name": "ipython",
    "version": 3
   },
   "file_extension": ".py",
   "mimetype": "text/x-python",
   "name": "python",
   "nbconvert_exporter": "python",
   "pygments_lexer": "ipython3",
   "version": "3.9.19"
  }
 },
 "nbformat": 4,
 "nbformat_minor": 2
}
